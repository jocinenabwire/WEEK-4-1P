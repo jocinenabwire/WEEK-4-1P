{
  "nbformat": 4,
  "nbformat_minor": 0,
  "metadata": {
    "colab": {
      "name": " Moringa_WEEK_4_IP_2021_Jocine_Nabwire.ipynb",
      "provenance": [],
      "collapsed_sections": [],
      "toc_visible": true,
      "authorship_tag": "ABX9TyMmkxdLDOQaGgtC9Hc+xC9P",
      "include_colab_link": true
    },
    "kernelspec": {
      "name": "python3",
      "display_name": "Python 3"
    },
    "language_info": {
      "name": "python"
    }
  },
  "cells": [
    {
      "cell_type": "markdown",
      "metadata": {
        "id": "view-in-github",
        "colab_type": "text"
      },
      "source": [
        "<a href=\"https://colab.research.google.com/github/jocinenabwire/MORINGA-WEEK-4-1P/blob/main/Moringa_WEEK_4_IP_2021_Jocine_Nabwire.ipynb\" target=\"_parent\"><img src=\"https://colab.research.google.com/assets/colab-badge.svg\" alt=\"Open In Colab\"/></a>"
      ]
    },
    {
      "cell_type": "markdown",
      "metadata": {
        "id": "tnDhTZdOEyQm"
      },
      "source": [
        "# **MORINGA PREP DATA SCIENCE INDEPENDENT PROJECT: WEEK 4**\n",
        "\n",
        "In this week's independent project, you will be working as a data scientist working for an electric car-sharing service company. You have been tasked to process stations data to understand electric car usage over time"
      ]
    },
    {
      "cell_type": "markdown",
      "metadata": {
        "id": "eOPj4ehiFbMN"
      },
      "source": [
        "**Research Question**\n",
        "\n",
        "Identify the most popular hour of the day for picking up a shared electric car (Bluecar) in the city of Paris over the month of April 2018."
      ]
    },
    {
      "cell_type": "markdown",
      "metadata": {
        "id": "OhEEYyJiFyM-"
      },
      "source": [
        "**Bonus Questions (Optional)**\n",
        "\n",
        "What is the most popular hour for returning cars?\n",
        "\n",
        "What station is the most popular?\n",
        " \n",
        ">>Overall?\n",
        " \n",
        ">>At the most popular picking hour?\n",
        "\n",
        "What postal code is the most popular for picking up Blue cars? Does the most popular station belong to that postal code?\n",
        " \n",
        ">>Overall?\n",
        " \n",
        ">>At the most popular picking hour?\n",
        "\n",
        "Do the results change if you consider Utilib and Utilib 1.4 instead of Blue cars? "
      ]
    },
    {
      "cell_type": "markdown",
      "metadata": {
        "id": "2k1OEGfHGLa-"
      },
      "source": [
        "**Datasets Provided**\n",
        "\n",
        "1.Autolib_DDI_DB_description_MoringaSchool_w4 https://drive.google.com/file/d/13DXF2CFWQLeYxxHFekng8HJnH_jtbfpN/view\n",
        "\n",
        "2.Autolib Dataset http://bit.ly/autolib_dataset\n",
        "\n",
        "N/B:The dataset contains data collected for a period of 9 days."
      ]
    },
    {
      "cell_type": "markdown",
      "metadata": {
        "id": "TxdzQA9nYtY6"
      },
      "source": [
        "**Hint:**\n",
        "\n",
        "To compute usage, we will need to understand that we have to join successive (in time) measures/counters for a given station, as the difference will tell whether a car was picked up, returned, or nothing happened."
      ]
    },
    {
      "cell_type": "markdown",
      "metadata": {
        "id": "dEoKMcn_bm6J"
      },
      "source": [
        "# **Importing Libraries**"
      ]
    },
    {
      "cell_type": "code",
      "metadata": {
        "id": "Wrhq4uBGbtOx"
      },
      "source": [
        "# Importing the libraries we will need \n",
        "\n",
        "# Importing the pandas library\n",
        "# \n",
        "import pandas as pd\n",
        "\n",
        "# Importing the numpy library\n",
        "#\n",
        "import numpy as np\n"
      ],
      "execution_count": 1,
      "outputs": []
    },
    {
      "cell_type": "markdown",
      "metadata": {
        "id": "bmhJQ997cdcx"
      },
      "source": [
        "# **Reading the Dataset from our CSV file**"
      ]
    },
    {
      "cell_type": "code",
      "metadata": {
        "id": "tVcKzV4aclyz"
      },
      "source": [
        "#loading the Autolib Dataset\n",
        "df = pd.read_csv(\"http://bit.ly/autolib_dataset\")"
      ],
      "execution_count": 2,
      "outputs": []
    },
    {
      "cell_type": "code",
      "metadata": {
        "colab": {
          "base_uri": "https://localhost:8080/",
          "height": 442
        },
        "id": "KpmdE0vycwBS",
        "outputId": "4db00ad8-e20d-4723-f71f-b60cad639bbe"
      },
      "source": [
        "#Previewing the Autolib dataset\n",
        "df.head()"
      ],
      "execution_count": 3,
      "outputs": [
        {
          "output_type": "execute_result",
          "data": {
            "text/html": [
              "<div>\n",
              "<style scoped>\n",
              "    .dataframe tbody tr th:only-of-type {\n",
              "        vertical-align: middle;\n",
              "    }\n",
              "\n",
              "    .dataframe tbody tr th {\n",
              "        vertical-align: top;\n",
              "    }\n",
              "\n",
              "    .dataframe thead th {\n",
              "        text-align: right;\n",
              "    }\n",
              "</style>\n",
              "<table border=\"1\" class=\"dataframe\">\n",
              "  <thead>\n",
              "    <tr style=\"text-align: right;\">\n",
              "      <th></th>\n",
              "      <th>Address</th>\n",
              "      <th>Cars</th>\n",
              "      <th>Bluecar counter</th>\n",
              "      <th>Utilib counter</th>\n",
              "      <th>Utilib 1.4 counter</th>\n",
              "      <th>Charge Slots</th>\n",
              "      <th>Charging Status</th>\n",
              "      <th>City</th>\n",
              "      <th>Displayed comment</th>\n",
              "      <th>ID</th>\n",
              "      <th>Kind</th>\n",
              "      <th>Geo point</th>\n",
              "      <th>Postal code</th>\n",
              "      <th>Public name</th>\n",
              "      <th>Rental status</th>\n",
              "      <th>Scheduled at</th>\n",
              "      <th>Slots</th>\n",
              "      <th>Station type</th>\n",
              "      <th>Status</th>\n",
              "      <th>Subscription status</th>\n",
              "      <th>year</th>\n",
              "      <th>month</th>\n",
              "      <th>day</th>\n",
              "      <th>hour</th>\n",
              "      <th>minute</th>\n",
              "    </tr>\n",
              "  </thead>\n",
              "  <tbody>\n",
              "    <tr>\n",
              "      <th>0</th>\n",
              "      <td>2 Avenue de Suffren</td>\n",
              "      <td>0</td>\n",
              "      <td>0</td>\n",
              "      <td>0</td>\n",
              "      <td>0</td>\n",
              "      <td>0</td>\n",
              "      <td>nonexistent</td>\n",
              "      <td>Paris</td>\n",
              "      <td>NaN</td>\n",
              "      <td>paris-suffren-2</td>\n",
              "      <td>STATION</td>\n",
              "      <td>48.857, 2.2917</td>\n",
              "      <td>75015</td>\n",
              "      <td>Paris/Suffren/2</td>\n",
              "      <td>operational</td>\n",
              "      <td>NaN</td>\n",
              "      <td>2</td>\n",
              "      <td>station</td>\n",
              "      <td>ok</td>\n",
              "      <td>nonexistent</td>\n",
              "      <td>2018</td>\n",
              "      <td>4</td>\n",
              "      <td>8</td>\n",
              "      <td>11</td>\n",
              "      <td>43</td>\n",
              "    </tr>\n",
              "    <tr>\n",
              "      <th>1</th>\n",
              "      <td>145 Rue Raymond Losserand</td>\n",
              "      <td>6</td>\n",
              "      <td>6</td>\n",
              "      <td>0</td>\n",
              "      <td>0</td>\n",
              "      <td>0</td>\n",
              "      <td>operational</td>\n",
              "      <td>Paris</td>\n",
              "      <td>NaN</td>\n",
              "      <td>paris-raymondlosserand-145</td>\n",
              "      <td>STATION</td>\n",
              "      <td>48.83126, 2.313088</td>\n",
              "      <td>75014</td>\n",
              "      <td>Paris/Raymond Losserand/145</td>\n",
              "      <td>operational</td>\n",
              "      <td>NaN</td>\n",
              "      <td>0</td>\n",
              "      <td>station</td>\n",
              "      <td>ok</td>\n",
              "      <td>nonexistent</td>\n",
              "      <td>2018</td>\n",
              "      <td>4</td>\n",
              "      <td>6</td>\n",
              "      <td>7</td>\n",
              "      <td>24</td>\n",
              "    </tr>\n",
              "    <tr>\n",
              "      <th>2</th>\n",
              "      <td>2 Avenue John Fitzgerald Kennedy</td>\n",
              "      <td>3</td>\n",
              "      <td>3</td>\n",
              "      <td>0</td>\n",
              "      <td>2</td>\n",
              "      <td>0</td>\n",
              "      <td>operational</td>\n",
              "      <td>Le Bourget</td>\n",
              "      <td>NaN</td>\n",
              "      <td>lebourget-johnfitzgeraldkennedy-2</td>\n",
              "      <td>STATION</td>\n",
              "      <td>48.938103, 2.4286035</td>\n",
              "      <td>93350</td>\n",
              "      <td>Le Bourget/John Fitzgerald Kennedy/2</td>\n",
              "      <td>operational</td>\n",
              "      <td>NaN</td>\n",
              "      <td>1</td>\n",
              "      <td>station</td>\n",
              "      <td>ok</td>\n",
              "      <td>nonexistent</td>\n",
              "      <td>2018</td>\n",
              "      <td>4</td>\n",
              "      <td>3</td>\n",
              "      <td>20</td>\n",
              "      <td>14</td>\n",
              "    </tr>\n",
              "    <tr>\n",
              "      <th>3</th>\n",
              "      <td>51 Rue EugÃ¨ne OudinÃ©</td>\n",
              "      <td>3</td>\n",
              "      <td>3</td>\n",
              "      <td>1</td>\n",
              "      <td>0</td>\n",
              "      <td>1</td>\n",
              "      <td>operational</td>\n",
              "      <td>Paris</td>\n",
              "      <td>NaN</td>\n",
              "      <td>paris-eugeneoudine-51</td>\n",
              "      <td>STATION</td>\n",
              "      <td>48.8250327, 2.3725162</td>\n",
              "      <td>75013</td>\n",
              "      <td>Paris/EugÃ¨ne OudinÃ©/51</td>\n",
              "      <td>operational</td>\n",
              "      <td>NaN</td>\n",
              "      <td>2</td>\n",
              "      <td>station</td>\n",
              "      <td>ok</td>\n",
              "      <td>nonexistent</td>\n",
              "      <td>2018</td>\n",
              "      <td>4</td>\n",
              "      <td>4</td>\n",
              "      <td>4</td>\n",
              "      <td>37</td>\n",
              "    </tr>\n",
              "    <tr>\n",
              "      <th>4</th>\n",
              "      <td>6 avenue de la Porte de Champerret</td>\n",
              "      <td>3</td>\n",
              "      <td>3</td>\n",
              "      <td>0</td>\n",
              "      <td>0</td>\n",
              "      <td>0</td>\n",
              "      <td>nonexistent</td>\n",
              "      <td>Paris</td>\n",
              "      <td>NaN</td>\n",
              "      <td>paris-portedechamperret-6</td>\n",
              "      <td>PARKING</td>\n",
              "      <td>48.8862632, 2.2874511</td>\n",
              "      <td>75017</td>\n",
              "      <td>Paris/Porte de Champerret/6</td>\n",
              "      <td>operational</td>\n",
              "      <td>NaN</td>\n",
              "      <td>3</td>\n",
              "      <td>station</td>\n",
              "      <td>ok</td>\n",
              "      <td>nonexistent</td>\n",
              "      <td>2018</td>\n",
              "      <td>4</td>\n",
              "      <td>8</td>\n",
              "      <td>17</td>\n",
              "      <td>23</td>\n",
              "    </tr>\n",
              "  </tbody>\n",
              "</table>\n",
              "</div>"
            ],
            "text/plain": [
              "                              Address  Cars  Bluecar counter  ...  day  hour  minute\n",
              "0                 2 Avenue de Suffren     0                0  ...    8    11      43\n",
              "1           145 Rue Raymond Losserand     6                6  ...    6     7      24\n",
              "2    2 Avenue John Fitzgerald Kennedy     3                3  ...    3    20      14\n",
              "3              51 Rue EugÃ¨ne OudinÃ©     3                3  ...    4     4      37\n",
              "4  6 avenue de la Porte de Champerret     3                3  ...    8    17      23\n",
              "\n",
              "[5 rows x 25 columns]"
            ]
          },
          "metadata": {},
          "execution_count": 3
        }
      ]
    },
    {
      "cell_type": "code",
      "metadata": {
        "colab": {
          "base_uri": "https://localhost:8080/",
          "height": 374
        },
        "id": "pLT2n-p6c5hc",
        "outputId": "e9c7da1d-91a7-425f-e5aa-d7e87f121189"
      },
      "source": [
        "#checking the tail\n",
        "df.tail()"
      ],
      "execution_count": 4,
      "outputs": [
        {
          "output_type": "execute_result",
          "data": {
            "text/html": [
              "<div>\n",
              "<style scoped>\n",
              "    .dataframe tbody tr th:only-of-type {\n",
              "        vertical-align: middle;\n",
              "    }\n",
              "\n",
              "    .dataframe tbody tr th {\n",
              "        vertical-align: top;\n",
              "    }\n",
              "\n",
              "    .dataframe thead th {\n",
              "        text-align: right;\n",
              "    }\n",
              "</style>\n",
              "<table border=\"1\" class=\"dataframe\">\n",
              "  <thead>\n",
              "    <tr style=\"text-align: right;\">\n",
              "      <th></th>\n",
              "      <th>Address</th>\n",
              "      <th>Cars</th>\n",
              "      <th>Bluecar counter</th>\n",
              "      <th>Utilib counter</th>\n",
              "      <th>Utilib 1.4 counter</th>\n",
              "      <th>Charge Slots</th>\n",
              "      <th>Charging Status</th>\n",
              "      <th>City</th>\n",
              "      <th>Displayed comment</th>\n",
              "      <th>ID</th>\n",
              "      <th>Kind</th>\n",
              "      <th>Geo point</th>\n",
              "      <th>Postal code</th>\n",
              "      <th>Public name</th>\n",
              "      <th>Rental status</th>\n",
              "      <th>Scheduled at</th>\n",
              "      <th>Slots</th>\n",
              "      <th>Station type</th>\n",
              "      <th>Status</th>\n",
              "      <th>Subscription status</th>\n",
              "      <th>year</th>\n",
              "      <th>month</th>\n",
              "      <th>day</th>\n",
              "      <th>hour</th>\n",
              "      <th>minute</th>\n",
              "    </tr>\n",
              "  </thead>\n",
              "  <tbody>\n",
              "    <tr>\n",
              "      <th>4995</th>\n",
              "      <td>8 avenue MÃ©nelotte</td>\n",
              "      <td>2</td>\n",
              "      <td>2</td>\n",
              "      <td>0</td>\n",
              "      <td>0</td>\n",
              "      <td>0</td>\n",
              "      <td>nonexistent</td>\n",
              "      <td>Colombes</td>\n",
              "      <td>NaN</td>\n",
              "      <td>colombes-menelotte-8</td>\n",
              "      <td>STATION</td>\n",
              "      <td>48.9246525, 2.259313</td>\n",
              "      <td>92700</td>\n",
              "      <td>Colombes/MÃ©nelotte/8</td>\n",
              "      <td>operational</td>\n",
              "      <td>NaN</td>\n",
              "      <td>3</td>\n",
              "      <td>station</td>\n",
              "      <td>ok</td>\n",
              "      <td>nonexistent</td>\n",
              "      <td>2018</td>\n",
              "      <td>4</td>\n",
              "      <td>6</td>\n",
              "      <td>11</td>\n",
              "      <td>26</td>\n",
              "    </tr>\n",
              "    <tr>\n",
              "      <th>4996</th>\n",
              "      <td>37 rue de Dantzig</td>\n",
              "      <td>4</td>\n",
              "      <td>4</td>\n",
              "      <td>0</td>\n",
              "      <td>0</td>\n",
              "      <td>1</td>\n",
              "      <td>operational</td>\n",
              "      <td>Paris</td>\n",
              "      <td>NaN</td>\n",
              "      <td>paris-dantzig-37</td>\n",
              "      <td>STATION</td>\n",
              "      <td>48.8335103, 2.2987201</td>\n",
              "      <td>75015</td>\n",
              "      <td>Paris/Dantzig/37</td>\n",
              "      <td>operational</td>\n",
              "      <td>NaN</td>\n",
              "      <td>2</td>\n",
              "      <td>station</td>\n",
              "      <td>ok</td>\n",
              "      <td>nonexistent</td>\n",
              "      <td>2018</td>\n",
              "      <td>4</td>\n",
              "      <td>4</td>\n",
              "      <td>16</td>\n",
              "      <td>56</td>\n",
              "    </tr>\n",
              "    <tr>\n",
              "      <th>4997</th>\n",
              "      <td>142 rue du Bac</td>\n",
              "      <td>1</td>\n",
              "      <td>1</td>\n",
              "      <td>0</td>\n",
              "      <td>0</td>\n",
              "      <td>1</td>\n",
              "      <td>operational</td>\n",
              "      <td>Paris</td>\n",
              "      <td>NaN</td>\n",
              "      <td>paris-bac-142</td>\n",
              "      <td>STATION</td>\n",
              "      <td>48.8508194, 2.3237968</td>\n",
              "      <td>75007</td>\n",
              "      <td>Paris/Bac/142</td>\n",
              "      <td>operational</td>\n",
              "      <td>NaN</td>\n",
              "      <td>4</td>\n",
              "      <td>station</td>\n",
              "      <td>ok</td>\n",
              "      <td>nonexistent</td>\n",
              "      <td>2018</td>\n",
              "      <td>4</td>\n",
              "      <td>1</td>\n",
              "      <td>7</td>\n",
              "      <td>1</td>\n",
              "    </tr>\n",
              "    <tr>\n",
              "      <th>4998</th>\n",
              "      <td>2 avenue du Val de Fontenay</td>\n",
              "      <td>2</td>\n",
              "      <td>2</td>\n",
              "      <td>0</td>\n",
              "      <td>0</td>\n",
              "      <td>0</td>\n",
              "      <td>nonexistent</td>\n",
              "      <td>Fontenay-Sous-Bois</td>\n",
              "      <td>NaN</td>\n",
              "      <td>fontenaysousbois-valdefontenay-2</td>\n",
              "      <td>STATION</td>\n",
              "      <td>48.8528247, 2.4869085</td>\n",
              "      <td>94120</td>\n",
              "      <td>Fontenay-Sous-Bois/Val de Fontenay/2</td>\n",
              "      <td>operational</td>\n",
              "      <td>NaN</td>\n",
              "      <td>3</td>\n",
              "      <td>station</td>\n",
              "      <td>ok</td>\n",
              "      <td>nonexistent</td>\n",
              "      <td>2018</td>\n",
              "      <td>4</td>\n",
              "      <td>4</td>\n",
              "      <td>17</td>\n",
              "      <td>27</td>\n",
              "    </tr>\n",
              "    <tr>\n",
              "      <th>4999</th>\n",
              "      <td>5 Rue Henry Brisson</td>\n",
              "      <td>4</td>\n",
              "      <td>4</td>\n",
              "      <td>0</td>\n",
              "      <td>0</td>\n",
              "      <td>0</td>\n",
              "      <td>operational</td>\n",
              "      <td>Paris</td>\n",
              "      <td>NaN</td>\n",
              "      <td>paris-henrybrisson-5</td>\n",
              "      <td>STATION</td>\n",
              "      <td>48.8984293, 2.3347923</td>\n",
              "      <td>75018</td>\n",
              "      <td>Paris/Henry Brisson/5</td>\n",
              "      <td>operational</td>\n",
              "      <td>NaN</td>\n",
              "      <td>0</td>\n",
              "      <td>station</td>\n",
              "      <td>ok</td>\n",
              "      <td>nonexistent</td>\n",
              "      <td>2018</td>\n",
              "      <td>4</td>\n",
              "      <td>8</td>\n",
              "      <td>10</td>\n",
              "      <td>2</td>\n",
              "    </tr>\n",
              "  </tbody>\n",
              "</table>\n",
              "</div>"
            ],
            "text/plain": [
              "                          Address  Cars  Bluecar counter  ...  day  hour  minute\n",
              "4995          8 avenue MÃ©nelotte     2                2  ...    6    11      26\n",
              "4996            37 rue de Dantzig     4                4  ...    4    16      56\n",
              "4997               142 rue du Bac     1                1  ...    1     7       1\n",
              "4998  2 avenue du Val de Fontenay     2                2  ...    4    17      27\n",
              "4999          5 Rue Henry Brisson     4                4  ...    8    10       2\n",
              "\n",
              "[5 rows x 25 columns]"
            ]
          },
          "metadata": {},
          "execution_count": 4
        }
      ]
    },
    {
      "cell_type": "markdown",
      "metadata": {
        "id": "rUCK4ktNdPXS"
      },
      "source": [
        "# **Data Understanding**"
      ]
    },
    {
      "cell_type": "code",
      "metadata": {
        "colab": {
          "base_uri": "https://localhost:8080/"
        },
        "id": "XpmqDdvbdWnQ",
        "outputId": "bf4ede0d-410c-4855-952f-25b961e29af6"
      },
      "source": [
        "#getting the info\n",
        "df.info()"
      ],
      "execution_count": 5,
      "outputs": [
        {
          "output_type": "stream",
          "name": "stdout",
          "text": [
            "<class 'pandas.core.frame.DataFrame'>\n",
            "RangeIndex: 5000 entries, 0 to 4999\n",
            "Data columns (total 25 columns):\n",
            " #   Column               Non-Null Count  Dtype \n",
            "---  ------               --------------  ----- \n",
            " 0   Address              5000 non-null   object\n",
            " 1   Cars                 5000 non-null   int64 \n",
            " 2   Bluecar counter      5000 non-null   int64 \n",
            " 3   Utilib counter       5000 non-null   int64 \n",
            " 4   Utilib 1.4 counter   5000 non-null   int64 \n",
            " 5   Charge Slots         5000 non-null   int64 \n",
            " 6   Charging Status      5000 non-null   object\n",
            " 7   City                 5000 non-null   object\n",
            " 8   Displayed comment    111 non-null    object\n",
            " 9   ID                   5000 non-null   object\n",
            " 10  Kind                 5000 non-null   object\n",
            " 11  Geo point            5000 non-null   object\n",
            " 12  Postal code          5000 non-null   int64 \n",
            " 13  Public name          5000 non-null   object\n",
            " 14  Rental status        5000 non-null   object\n",
            " 15  Scheduled at         47 non-null     object\n",
            " 16  Slots                5000 non-null   int64 \n",
            " 17  Station type         5000 non-null   object\n",
            " 18  Status               5000 non-null   object\n",
            " 19  Subscription status  5000 non-null   object\n",
            " 20  year                 5000 non-null   int64 \n",
            " 21  month                5000 non-null   int64 \n",
            " 22  day                  5000 non-null   int64 \n",
            " 23  hour                 5000 non-null   int64 \n",
            " 24  minute               5000 non-null   int64 \n",
            "dtypes: int64(12), object(13)\n",
            "memory usage: 976.7+ KB\n"
          ]
        }
      ]
    },
    {
      "cell_type": "markdown",
      "metadata": {
        "id": "hjYtX9SHdiWS"
      },
      "source": [
        "The dataset has 5000 entries and 25 columns."
      ]
    },
    {
      "cell_type": "code",
      "metadata": {
        "colab": {
          "base_uri": "https://localhost:8080/"
        },
        "id": "GBjaVQpWdg0a",
        "outputId": "8a5396c2-9056-4408-d3c6-120eaeb3ce9f"
      },
      "source": [
        "#checking the columns\n",
        "df.columns"
      ],
      "execution_count": 6,
      "outputs": [
        {
          "output_type": "execute_result",
          "data": {
            "text/plain": [
              "Index(['Address', 'Cars', 'Bluecar counter', 'Utilib counter',\n",
              "       'Utilib 1.4 counter', 'Charge Slots', 'Charging Status', 'City',\n",
              "       'Displayed comment', 'ID', 'Kind', 'Geo point', 'Postal code',\n",
              "       'Public name', 'Rental status', 'Scheduled at', 'Slots', 'Station type',\n",
              "       'Status', 'Subscription status', 'year', 'month', 'day', 'hour',\n",
              "       'minute'],\n",
              "      dtype='object')"
            ]
          },
          "metadata": {},
          "execution_count": 6
        }
      ]
    },
    {
      "cell_type": "markdown",
      "metadata": {
        "id": "GHWSC1Z3dz3J"
      },
      "source": [
        "These are columns found in the dataset."
      ]
    },
    {
      "cell_type": "code",
      "metadata": {
        "colab": {
          "base_uri": "https://localhost:8080/"
        },
        "id": "UmMXG2o0gCgR",
        "outputId": "0826198f-cd13-410f-f905-8d21fc73a7f3"
      },
      "source": [
        "#Getting the shape\n",
        "df.shape"
      ],
      "execution_count": 7,
      "outputs": [
        {
          "output_type": "execute_result",
          "data": {
            "text/plain": [
              "(5000, 25)"
            ]
          },
          "metadata": {},
          "execution_count": 7
        }
      ]
    },
    {
      "cell_type": "markdown",
      "metadata": {
        "id": "j484R_r3gIVB"
      },
      "source": [
        "The dataset has 5000 rows and 25 columns."
      ]
    },
    {
      "cell_type": "code",
      "metadata": {
        "colab": {
          "base_uri": "https://localhost:8080/",
          "height": 332
        },
        "id": "-SSlK-dcgHrC",
        "outputId": "69c8b170-0672-4429-84cc-557a6d4e22e1"
      },
      "source": [
        "#getting basic statistical details\n",
        "df.describe()"
      ],
      "execution_count": 8,
      "outputs": [
        {
          "output_type": "execute_result",
          "data": {
            "text/html": [
              "<div>\n",
              "<style scoped>\n",
              "    .dataframe tbody tr th:only-of-type {\n",
              "        vertical-align: middle;\n",
              "    }\n",
              "\n",
              "    .dataframe tbody tr th {\n",
              "        vertical-align: top;\n",
              "    }\n",
              "\n",
              "    .dataframe thead th {\n",
              "        text-align: right;\n",
              "    }\n",
              "</style>\n",
              "<table border=\"1\" class=\"dataframe\">\n",
              "  <thead>\n",
              "    <tr style=\"text-align: right;\">\n",
              "      <th></th>\n",
              "      <th>Cars</th>\n",
              "      <th>Bluecar counter</th>\n",
              "      <th>Utilib counter</th>\n",
              "      <th>Utilib 1.4 counter</th>\n",
              "      <th>Charge Slots</th>\n",
              "      <th>Postal code</th>\n",
              "      <th>Slots</th>\n",
              "      <th>year</th>\n",
              "      <th>month</th>\n",
              "      <th>day</th>\n",
              "      <th>hour</th>\n",
              "      <th>minute</th>\n",
              "    </tr>\n",
              "  </thead>\n",
              "  <tbody>\n",
              "    <tr>\n",
              "      <th>count</th>\n",
              "      <td>5000.000000</td>\n",
              "      <td>5000.000000</td>\n",
              "      <td>5000.000000</td>\n",
              "      <td>5000.000000</td>\n",
              "      <td>5000.000000</td>\n",
              "      <td>5000.000000</td>\n",
              "      <td>5000.000000</td>\n",
              "      <td>5000.0</td>\n",
              "      <td>5000.0</td>\n",
              "      <td>5000.000000</td>\n",
              "      <td>5000.000000</td>\n",
              "      <td>5000.000000</td>\n",
              "    </tr>\n",
              "    <tr>\n",
              "      <th>mean</th>\n",
              "      <td>2.333600</td>\n",
              "      <td>2.333600</td>\n",
              "      <td>0.059600</td>\n",
              "      <td>0.123000</td>\n",
              "      <td>0.253400</td>\n",
              "      <td>82634.878400</td>\n",
              "      <td>1.932400</td>\n",
              "      <td>2018.0</td>\n",
              "      <td>4.0</td>\n",
              "      <td>4.941600</td>\n",
              "      <td>11.509200</td>\n",
              "      <td>29.270000</td>\n",
              "    </tr>\n",
              "    <tr>\n",
              "      <th>std</th>\n",
              "      <td>2.035274</td>\n",
              "      <td>2.035274</td>\n",
              "      <td>0.246698</td>\n",
              "      <td>0.356506</td>\n",
              "      <td>0.546304</td>\n",
              "      <td>8835.865721</td>\n",
              "      <td>1.905402</td>\n",
              "      <td>0.0</td>\n",
              "      <td>0.0</td>\n",
              "      <td>2.597063</td>\n",
              "      <td>6.893549</td>\n",
              "      <td>17.231741</td>\n",
              "    </tr>\n",
              "    <tr>\n",
              "      <th>min</th>\n",
              "      <td>0.000000</td>\n",
              "      <td>0.000000</td>\n",
              "      <td>0.000000</td>\n",
              "      <td>0.000000</td>\n",
              "      <td>0.000000</td>\n",
              "      <td>75001.000000</td>\n",
              "      <td>0.000000</td>\n",
              "      <td>2018.0</td>\n",
              "      <td>4.0</td>\n",
              "      <td>1.000000</td>\n",
              "      <td>0.000000</td>\n",
              "      <td>0.000000</td>\n",
              "    </tr>\n",
              "    <tr>\n",
              "      <th>25%</th>\n",
              "      <td>0.000000</td>\n",
              "      <td>0.000000</td>\n",
              "      <td>0.000000</td>\n",
              "      <td>0.000000</td>\n",
              "      <td>0.000000</td>\n",
              "      <td>75012.000000</td>\n",
              "      <td>0.000000</td>\n",
              "      <td>2018.0</td>\n",
              "      <td>4.0</td>\n",
              "      <td>3.000000</td>\n",
              "      <td>6.000000</td>\n",
              "      <td>14.000000</td>\n",
              "    </tr>\n",
              "    <tr>\n",
              "      <th>50%</th>\n",
              "      <td>2.000000</td>\n",
              "      <td>2.000000</td>\n",
              "      <td>0.000000</td>\n",
              "      <td>0.000000</td>\n",
              "      <td>0.000000</td>\n",
              "      <td>75019.000000</td>\n",
              "      <td>1.000000</td>\n",
              "      <td>2018.0</td>\n",
              "      <td>4.0</td>\n",
              "      <td>5.000000</td>\n",
              "      <td>11.000000</td>\n",
              "      <td>29.000000</td>\n",
              "    </tr>\n",
              "    <tr>\n",
              "      <th>75%</th>\n",
              "      <td>4.000000</td>\n",
              "      <td>4.000000</td>\n",
              "      <td>0.000000</td>\n",
              "      <td>0.000000</td>\n",
              "      <td>0.000000</td>\n",
              "      <td>92320.000000</td>\n",
              "      <td>3.000000</td>\n",
              "      <td>2018.0</td>\n",
              "      <td>4.0</td>\n",
              "      <td>7.000000</td>\n",
              "      <td>18.000000</td>\n",
              "      <td>44.000000</td>\n",
              "    </tr>\n",
              "    <tr>\n",
              "      <th>max</th>\n",
              "      <td>7.000000</td>\n",
              "      <td>7.000000</td>\n",
              "      <td>2.000000</td>\n",
              "      <td>3.000000</td>\n",
              "      <td>2.000000</td>\n",
              "      <td>95880.000000</td>\n",
              "      <td>7.000000</td>\n",
              "      <td>2018.0</td>\n",
              "      <td>4.0</td>\n",
              "      <td>9.000000</td>\n",
              "      <td>23.000000</td>\n",
              "      <td>59.000000</td>\n",
              "    </tr>\n",
              "  </tbody>\n",
              "</table>\n",
              "</div>"
            ],
            "text/plain": [
              "              Cars  Bluecar counter  ...         hour       minute\n",
              "count  5000.000000      5000.000000  ...  5000.000000  5000.000000\n",
              "mean      2.333600         2.333600  ...    11.509200    29.270000\n",
              "std       2.035274         2.035274  ...     6.893549    17.231741\n",
              "min       0.000000         0.000000  ...     0.000000     0.000000\n",
              "25%       0.000000         0.000000  ...     6.000000    14.000000\n",
              "50%       2.000000         2.000000  ...    11.000000    29.000000\n",
              "75%       4.000000         4.000000  ...    18.000000    44.000000\n",
              "max       7.000000         7.000000  ...    23.000000    59.000000\n",
              "\n",
              "[8 rows x 12 columns]"
            ]
          },
          "metadata": {},
          "execution_count": 8
        }
      ]
    },
    {
      "cell_type": "markdown",
      "metadata": {
        "id": "zDCBEwGyhDwQ"
      },
      "source": [
        "The count,mean,std,min,max and quantiles are shown above."
      ]
    },
    {
      "cell_type": "code",
      "metadata": {
        "colab": {
          "base_uri": "https://localhost:8080/"
        },
        "id": "dGvLza1gkwPh",
        "outputId": "dde9939c-4cfc-46a6-e932-b7708c5b69f6"
      },
      "source": [
        "#getting unique values\n",
        "df.nunique()"
      ],
      "execution_count": 9,
      "outputs": [
        {
          "output_type": "execute_result",
          "data": {
            "text/plain": [
              "Address                1104\n",
              "Cars                      8\n",
              "Bluecar counter           8\n",
              "Utilib counter            3\n",
              "Utilib 1.4 counter        4\n",
              "Charge Slots              3\n",
              "Charging Status           3\n",
              "City                     88\n",
              "Displayed comment        25\n",
              "ID                     1105\n",
              "Kind                      4\n",
              "Geo point              1105\n",
              "Postal code             107\n",
              "Public name            1105\n",
              "Rental status             4\n",
              "Scheduled at              8\n",
              "Slots                     8\n",
              "Station type              3\n",
              "Status                    3\n",
              "Subscription status       3\n",
              "year                      1\n",
              "month                     1\n",
              "day                       9\n",
              "hour                     24\n",
              "minute                   60\n",
              "dtype: int64"
            ]
          },
          "metadata": {},
          "execution_count": 9
        }
      ]
    },
    {
      "cell_type": "markdown",
      "metadata": {
        "id": "k-jlWWyJk2ZG"
      },
      "source": [
        "These shows the number of unique values in each column."
      ]
    },
    {
      "cell_type": "markdown",
      "metadata": {
        "id": "O5zbmfCFgnES"
      },
      "source": [
        "# **Data Cleaning**"
      ]
    },
    {
      "cell_type": "markdown",
      "metadata": {
        "id": "ZzKeQ0-eiyxa"
      },
      "source": [
        "## Validity"
      ]
    },
    {
      "cell_type": "code",
      "metadata": {
        "colab": {
          "base_uri": "https://localhost:8080/"
        },
        "id": "NpLMXwtvj9yz",
        "outputId": "961bfb69-2a68-4912-959f-6a3227c7f689"
      },
      "source": [
        "df.columns"
      ],
      "execution_count": 10,
      "outputs": [
        {
          "output_type": "execute_result",
          "data": {
            "text/plain": [
              "Index(['Address', 'Cars', 'Bluecar counter', 'Utilib counter',\n",
              "       'Utilib 1.4 counter', 'Charge Slots', 'Charging Status', 'City',\n",
              "       'Displayed comment', 'ID', 'Kind', 'Geo point', 'Postal code',\n",
              "       'Public name', 'Rental status', 'Scheduled at', 'Slots', 'Station type',\n",
              "       'Status', 'Subscription status', 'year', 'month', 'day', 'hour',\n",
              "       'minute'],\n",
              "      dtype='object')"
            ]
          },
          "metadata": {},
          "execution_count": 10
        }
      ]
    },
    {
      "cell_type": "code",
      "metadata": {
        "colab": {
          "base_uri": "https://localhost:8080/",
          "height": 571
        },
        "id": "ji7jQr4Ki2cB",
        "outputId": "be953bff-584c-4174-f4e6-b4bbbf4166e3"
      },
      "source": [
        "#Irrelevant Data\n",
        "#Drop columns we do not need.\n",
        "df.drop(['Address','Cars','Displayed comment', 'ID','Geo point'],axis=1,inplace=True)\n",
        "df"
      ],
      "execution_count": 11,
      "outputs": [
        {
          "output_type": "execute_result",
          "data": {
            "text/html": [
              "<div>\n",
              "<style scoped>\n",
              "    .dataframe tbody tr th:only-of-type {\n",
              "        vertical-align: middle;\n",
              "    }\n",
              "\n",
              "    .dataframe tbody tr th {\n",
              "        vertical-align: top;\n",
              "    }\n",
              "\n",
              "    .dataframe thead th {\n",
              "        text-align: right;\n",
              "    }\n",
              "</style>\n",
              "<table border=\"1\" class=\"dataframe\">\n",
              "  <thead>\n",
              "    <tr style=\"text-align: right;\">\n",
              "      <th></th>\n",
              "      <th>Bluecar counter</th>\n",
              "      <th>Utilib counter</th>\n",
              "      <th>Utilib 1.4 counter</th>\n",
              "      <th>Charge Slots</th>\n",
              "      <th>Charging Status</th>\n",
              "      <th>City</th>\n",
              "      <th>Kind</th>\n",
              "      <th>Postal code</th>\n",
              "      <th>Public name</th>\n",
              "      <th>Rental status</th>\n",
              "      <th>Scheduled at</th>\n",
              "      <th>Slots</th>\n",
              "      <th>Station type</th>\n",
              "      <th>Status</th>\n",
              "      <th>Subscription status</th>\n",
              "      <th>year</th>\n",
              "      <th>month</th>\n",
              "      <th>day</th>\n",
              "      <th>hour</th>\n",
              "      <th>minute</th>\n",
              "    </tr>\n",
              "  </thead>\n",
              "  <tbody>\n",
              "    <tr>\n",
              "      <th>0</th>\n",
              "      <td>0</td>\n",
              "      <td>0</td>\n",
              "      <td>0</td>\n",
              "      <td>0</td>\n",
              "      <td>nonexistent</td>\n",
              "      <td>Paris</td>\n",
              "      <td>STATION</td>\n",
              "      <td>75015</td>\n",
              "      <td>Paris/Suffren/2</td>\n",
              "      <td>operational</td>\n",
              "      <td>NaN</td>\n",
              "      <td>2</td>\n",
              "      <td>station</td>\n",
              "      <td>ok</td>\n",
              "      <td>nonexistent</td>\n",
              "      <td>2018</td>\n",
              "      <td>4</td>\n",
              "      <td>8</td>\n",
              "      <td>11</td>\n",
              "      <td>43</td>\n",
              "    </tr>\n",
              "    <tr>\n",
              "      <th>1</th>\n",
              "      <td>6</td>\n",
              "      <td>0</td>\n",
              "      <td>0</td>\n",
              "      <td>0</td>\n",
              "      <td>operational</td>\n",
              "      <td>Paris</td>\n",
              "      <td>STATION</td>\n",
              "      <td>75014</td>\n",
              "      <td>Paris/Raymond Losserand/145</td>\n",
              "      <td>operational</td>\n",
              "      <td>NaN</td>\n",
              "      <td>0</td>\n",
              "      <td>station</td>\n",
              "      <td>ok</td>\n",
              "      <td>nonexistent</td>\n",
              "      <td>2018</td>\n",
              "      <td>4</td>\n",
              "      <td>6</td>\n",
              "      <td>7</td>\n",
              "      <td>24</td>\n",
              "    </tr>\n",
              "    <tr>\n",
              "      <th>2</th>\n",
              "      <td>3</td>\n",
              "      <td>0</td>\n",
              "      <td>2</td>\n",
              "      <td>0</td>\n",
              "      <td>operational</td>\n",
              "      <td>Le Bourget</td>\n",
              "      <td>STATION</td>\n",
              "      <td>93350</td>\n",
              "      <td>Le Bourget/John Fitzgerald Kennedy/2</td>\n",
              "      <td>operational</td>\n",
              "      <td>NaN</td>\n",
              "      <td>1</td>\n",
              "      <td>station</td>\n",
              "      <td>ok</td>\n",
              "      <td>nonexistent</td>\n",
              "      <td>2018</td>\n",
              "      <td>4</td>\n",
              "      <td>3</td>\n",
              "      <td>20</td>\n",
              "      <td>14</td>\n",
              "    </tr>\n",
              "    <tr>\n",
              "      <th>3</th>\n",
              "      <td>3</td>\n",
              "      <td>1</td>\n",
              "      <td>0</td>\n",
              "      <td>1</td>\n",
              "      <td>operational</td>\n",
              "      <td>Paris</td>\n",
              "      <td>STATION</td>\n",
              "      <td>75013</td>\n",
              "      <td>Paris/EugÃ¨ne OudinÃ©/51</td>\n",
              "      <td>operational</td>\n",
              "      <td>NaN</td>\n",
              "      <td>2</td>\n",
              "      <td>station</td>\n",
              "      <td>ok</td>\n",
              "      <td>nonexistent</td>\n",
              "      <td>2018</td>\n",
              "      <td>4</td>\n",
              "      <td>4</td>\n",
              "      <td>4</td>\n",
              "      <td>37</td>\n",
              "    </tr>\n",
              "    <tr>\n",
              "      <th>4</th>\n",
              "      <td>3</td>\n",
              "      <td>0</td>\n",
              "      <td>0</td>\n",
              "      <td>0</td>\n",
              "      <td>nonexistent</td>\n",
              "      <td>Paris</td>\n",
              "      <td>PARKING</td>\n",
              "      <td>75017</td>\n",
              "      <td>Paris/Porte de Champerret/6</td>\n",
              "      <td>operational</td>\n",
              "      <td>NaN</td>\n",
              "      <td>3</td>\n",
              "      <td>station</td>\n",
              "      <td>ok</td>\n",
              "      <td>nonexistent</td>\n",
              "      <td>2018</td>\n",
              "      <td>4</td>\n",
              "      <td>8</td>\n",
              "      <td>17</td>\n",
              "      <td>23</td>\n",
              "    </tr>\n",
              "    <tr>\n",
              "      <th>...</th>\n",
              "      <td>...</td>\n",
              "      <td>...</td>\n",
              "      <td>...</td>\n",
              "      <td>...</td>\n",
              "      <td>...</td>\n",
              "      <td>...</td>\n",
              "      <td>...</td>\n",
              "      <td>...</td>\n",
              "      <td>...</td>\n",
              "      <td>...</td>\n",
              "      <td>...</td>\n",
              "      <td>...</td>\n",
              "      <td>...</td>\n",
              "      <td>...</td>\n",
              "      <td>...</td>\n",
              "      <td>...</td>\n",
              "      <td>...</td>\n",
              "      <td>...</td>\n",
              "      <td>...</td>\n",
              "      <td>...</td>\n",
              "    </tr>\n",
              "    <tr>\n",
              "      <th>4995</th>\n",
              "      <td>2</td>\n",
              "      <td>0</td>\n",
              "      <td>0</td>\n",
              "      <td>0</td>\n",
              "      <td>nonexistent</td>\n",
              "      <td>Colombes</td>\n",
              "      <td>STATION</td>\n",
              "      <td>92700</td>\n",
              "      <td>Colombes/MÃ©nelotte/8</td>\n",
              "      <td>operational</td>\n",
              "      <td>NaN</td>\n",
              "      <td>3</td>\n",
              "      <td>station</td>\n",
              "      <td>ok</td>\n",
              "      <td>nonexistent</td>\n",
              "      <td>2018</td>\n",
              "      <td>4</td>\n",
              "      <td>6</td>\n",
              "      <td>11</td>\n",
              "      <td>26</td>\n",
              "    </tr>\n",
              "    <tr>\n",
              "      <th>4996</th>\n",
              "      <td>4</td>\n",
              "      <td>0</td>\n",
              "      <td>0</td>\n",
              "      <td>1</td>\n",
              "      <td>operational</td>\n",
              "      <td>Paris</td>\n",
              "      <td>STATION</td>\n",
              "      <td>75015</td>\n",
              "      <td>Paris/Dantzig/37</td>\n",
              "      <td>operational</td>\n",
              "      <td>NaN</td>\n",
              "      <td>2</td>\n",
              "      <td>station</td>\n",
              "      <td>ok</td>\n",
              "      <td>nonexistent</td>\n",
              "      <td>2018</td>\n",
              "      <td>4</td>\n",
              "      <td>4</td>\n",
              "      <td>16</td>\n",
              "      <td>56</td>\n",
              "    </tr>\n",
              "    <tr>\n",
              "      <th>4997</th>\n",
              "      <td>1</td>\n",
              "      <td>0</td>\n",
              "      <td>0</td>\n",
              "      <td>1</td>\n",
              "      <td>operational</td>\n",
              "      <td>Paris</td>\n",
              "      <td>STATION</td>\n",
              "      <td>75007</td>\n",
              "      <td>Paris/Bac/142</td>\n",
              "      <td>operational</td>\n",
              "      <td>NaN</td>\n",
              "      <td>4</td>\n",
              "      <td>station</td>\n",
              "      <td>ok</td>\n",
              "      <td>nonexistent</td>\n",
              "      <td>2018</td>\n",
              "      <td>4</td>\n",
              "      <td>1</td>\n",
              "      <td>7</td>\n",
              "      <td>1</td>\n",
              "    </tr>\n",
              "    <tr>\n",
              "      <th>4998</th>\n",
              "      <td>2</td>\n",
              "      <td>0</td>\n",
              "      <td>0</td>\n",
              "      <td>0</td>\n",
              "      <td>nonexistent</td>\n",
              "      <td>Fontenay-Sous-Bois</td>\n",
              "      <td>STATION</td>\n",
              "      <td>94120</td>\n",
              "      <td>Fontenay-Sous-Bois/Val de Fontenay/2</td>\n",
              "      <td>operational</td>\n",
              "      <td>NaN</td>\n",
              "      <td>3</td>\n",
              "      <td>station</td>\n",
              "      <td>ok</td>\n",
              "      <td>nonexistent</td>\n",
              "      <td>2018</td>\n",
              "      <td>4</td>\n",
              "      <td>4</td>\n",
              "      <td>17</td>\n",
              "      <td>27</td>\n",
              "    </tr>\n",
              "    <tr>\n",
              "      <th>4999</th>\n",
              "      <td>4</td>\n",
              "      <td>0</td>\n",
              "      <td>0</td>\n",
              "      <td>0</td>\n",
              "      <td>operational</td>\n",
              "      <td>Paris</td>\n",
              "      <td>STATION</td>\n",
              "      <td>75018</td>\n",
              "      <td>Paris/Henry Brisson/5</td>\n",
              "      <td>operational</td>\n",
              "      <td>NaN</td>\n",
              "      <td>0</td>\n",
              "      <td>station</td>\n",
              "      <td>ok</td>\n",
              "      <td>nonexistent</td>\n",
              "      <td>2018</td>\n",
              "      <td>4</td>\n",
              "      <td>8</td>\n",
              "      <td>10</td>\n",
              "      <td>2</td>\n",
              "    </tr>\n",
              "  </tbody>\n",
              "</table>\n",
              "<p>5000 rows × 20 columns</p>\n",
              "</div>"
            ],
            "text/plain": [
              "      Bluecar counter  Utilib counter  Utilib 1.4 counter  ...  day hour minute\n",
              "0                   0               0                   0  ...    8   11     43\n",
              "1                   6               0                   0  ...    6    7     24\n",
              "2                   3               0                   2  ...    3   20     14\n",
              "3                   3               1                   0  ...    4    4     37\n",
              "4                   3               0                   0  ...    8   17     23\n",
              "...               ...             ...                 ...  ...  ...  ...    ...\n",
              "4995                2               0                   0  ...    6   11     26\n",
              "4996                4               0                   0  ...    4   16     56\n",
              "4997                1               0                   0  ...    1    7      1\n",
              "4998                2               0                   0  ...    4   17     27\n",
              "4999                4               0                   0  ...    8   10      2\n",
              "\n",
              "[5000 rows x 20 columns]"
            ]
          },
          "metadata": {},
          "execution_count": 11
        }
      ]
    },
    {
      "cell_type": "markdown",
      "metadata": {
        "id": "5xs9GwJagsKq"
      },
      "source": [
        "## Completeness"
      ]
    },
    {
      "cell_type": "code",
      "metadata": {
        "colab": {
          "base_uri": "https://localhost:8080/"
        },
        "id": "QdXPG1BVg4R1",
        "outputId": "4e124f9c-157b-48da-e76a-0f4dd321f1b8"
      },
      "source": [
        "#checking for null values across each column\n",
        "df.isnull().sum()"
      ],
      "execution_count": 12,
      "outputs": [
        {
          "output_type": "execute_result",
          "data": {
            "text/plain": [
              "Bluecar counter           0\n",
              "Utilib counter            0\n",
              "Utilib 1.4 counter        0\n",
              "Charge Slots              0\n",
              "Charging Status           0\n",
              "City                      0\n",
              "Kind                      0\n",
              "Postal code               0\n",
              "Public name               0\n",
              "Rental status             0\n",
              "Scheduled at           4953\n",
              "Slots                     0\n",
              "Station type              0\n",
              "Status                    0\n",
              "Subscription status       0\n",
              "year                      0\n",
              "month                     0\n",
              "day                       0\n",
              "hour                      0\n",
              "minute                    0\n",
              "dtype: int64"
            ]
          },
          "metadata": {},
          "execution_count": 12
        }
      ]
    },
    {
      "cell_type": "markdown",
      "metadata": {
        "id": "0XU0pyo6h0ry"
      },
      "source": [
        "Scheduled at column has 4953 null values."
      ]
    },
    {
      "cell_type": "markdown",
      "metadata": {
        "id": "WDwN03ZCiY0c"
      },
      "source": [
        "## Consistency"
      ]
    },
    {
      "cell_type": "code",
      "metadata": {
        "colab": {
          "base_uri": "https://localhost:8080/"
        },
        "id": "oaEFHWCwiegZ",
        "outputId": "a7ee9fc5-603b-4c81-be12-50d0aef91833"
      },
      "source": [
        "#checking for duplicates\n",
        "df.duplicated()"
      ],
      "execution_count": 13,
      "outputs": [
        {
          "output_type": "execute_result",
          "data": {
            "text/plain": [
              "0       False\n",
              "1       False\n",
              "2       False\n",
              "3       False\n",
              "4       False\n",
              "        ...  \n",
              "4995    False\n",
              "4996    False\n",
              "4997    False\n",
              "4998    False\n",
              "4999    False\n",
              "Length: 5000, dtype: bool"
            ]
          },
          "metadata": {},
          "execution_count": 13
        }
      ]
    },
    {
      "cell_type": "markdown",
      "metadata": {
        "id": "CsW6O44clHcm"
      },
      "source": [
        "There are no duplicates."
      ]
    },
    {
      "cell_type": "code",
      "metadata": {
        "colab": {
          "base_uri": "https://localhost:8080/",
          "height": 521
        },
        "id": "qOUkMHUHtROE",
        "outputId": "a6d98dbf-8e92-4217-96a5-19812c3c1513"
      },
      "source": [
        "#rearranging our dataset so that the day and hour are arranged systematically.\n",
        "df1=df.sort_values(['day','hour'], ascending=[True, True])\n",
        "df1"
      ],
      "execution_count": 14,
      "outputs": [
        {
          "output_type": "execute_result",
          "data": {
            "text/html": [
              "<div>\n",
              "<style scoped>\n",
              "    .dataframe tbody tr th:only-of-type {\n",
              "        vertical-align: middle;\n",
              "    }\n",
              "\n",
              "    .dataframe tbody tr th {\n",
              "        vertical-align: top;\n",
              "    }\n",
              "\n",
              "    .dataframe thead th {\n",
              "        text-align: right;\n",
              "    }\n",
              "</style>\n",
              "<table border=\"1\" class=\"dataframe\">\n",
              "  <thead>\n",
              "    <tr style=\"text-align: right;\">\n",
              "      <th></th>\n",
              "      <th>Bluecar counter</th>\n",
              "      <th>Utilib counter</th>\n",
              "      <th>Utilib 1.4 counter</th>\n",
              "      <th>Charge Slots</th>\n",
              "      <th>Charging Status</th>\n",
              "      <th>City</th>\n",
              "      <th>Kind</th>\n",
              "      <th>Postal code</th>\n",
              "      <th>Public name</th>\n",
              "      <th>Rental status</th>\n",
              "      <th>Scheduled at</th>\n",
              "      <th>Slots</th>\n",
              "      <th>Station type</th>\n",
              "      <th>Status</th>\n",
              "      <th>Subscription status</th>\n",
              "      <th>year</th>\n",
              "      <th>month</th>\n",
              "      <th>day</th>\n",
              "      <th>hour</th>\n",
              "      <th>minute</th>\n",
              "    </tr>\n",
              "  </thead>\n",
              "  <tbody>\n",
              "    <tr>\n",
              "      <th>123</th>\n",
              "      <td>0</td>\n",
              "      <td>0</td>\n",
              "      <td>0</td>\n",
              "      <td>0</td>\n",
              "      <td>nonexistent</td>\n",
              "      <td>Paris</td>\n",
              "      <td>STATION</td>\n",
              "      <td>75019</td>\n",
              "      <td>Paris/Mathis/35</td>\n",
              "      <td>operational</td>\n",
              "      <td>NaN</td>\n",
              "      <td>4</td>\n",
              "      <td>station</td>\n",
              "      <td>ok</td>\n",
              "      <td>nonexistent</td>\n",
              "      <td>2018</td>\n",
              "      <td>4</td>\n",
              "      <td>1</td>\n",
              "      <td>0</td>\n",
              "      <td>32</td>\n",
              "    </tr>\n",
              "    <tr>\n",
              "      <th>459</th>\n",
              "      <td>3</td>\n",
              "      <td>0</td>\n",
              "      <td>0</td>\n",
              "      <td>0</td>\n",
              "      <td>operational</td>\n",
              "      <td>Paris</td>\n",
              "      <td>STATION</td>\n",
              "      <td>75017</td>\n",
              "      <td>Paris/Pereire/170</td>\n",
              "      <td>operational</td>\n",
              "      <td>NaN</td>\n",
              "      <td>1</td>\n",
              "      <td>station</td>\n",
              "      <td>ok</td>\n",
              "      <td>nonexistent</td>\n",
              "      <td>2018</td>\n",
              "      <td>4</td>\n",
              "      <td>1</td>\n",
              "      <td>0</td>\n",
              "      <td>37</td>\n",
              "    </tr>\n",
              "    <tr>\n",
              "      <th>584</th>\n",
              "      <td>7</td>\n",
              "      <td>0</td>\n",
              "      <td>0</td>\n",
              "      <td>0</td>\n",
              "      <td>nonexistent</td>\n",
              "      <td>Ãpinay-sur-Seine</td>\n",
              "      <td>STATION</td>\n",
              "      <td>93800</td>\n",
              "      <td>Ãpinay-sur-Seine/Avenir/1</td>\n",
              "      <td>operational</td>\n",
              "      <td>NaN</td>\n",
              "      <td>0</td>\n",
              "      <td>station</td>\n",
              "      <td>ok</td>\n",
              "      <td>nonexistent</td>\n",
              "      <td>2018</td>\n",
              "      <td>4</td>\n",
              "      <td>1</td>\n",
              "      <td>0</td>\n",
              "      <td>5</td>\n",
              "    </tr>\n",
              "    <tr>\n",
              "      <th>978</th>\n",
              "      <td>2</td>\n",
              "      <td>0</td>\n",
              "      <td>0</td>\n",
              "      <td>1</td>\n",
              "      <td>operational</td>\n",
              "      <td>Paris</td>\n",
              "      <td>STATION</td>\n",
              "      <td>75012</td>\n",
              "      <td>Paris/Fabre d'Ãglantine/2</td>\n",
              "      <td>operational</td>\n",
              "      <td>NaN</td>\n",
              "      <td>2</td>\n",
              "      <td>station</td>\n",
              "      <td>ok</td>\n",
              "      <td>nonexistent</td>\n",
              "      <td>2018</td>\n",
              "      <td>4</td>\n",
              "      <td>1</td>\n",
              "      <td>0</td>\n",
              "      <td>33</td>\n",
              "    </tr>\n",
              "    <tr>\n",
              "      <th>1026</th>\n",
              "      <td>4</td>\n",
              "      <td>0</td>\n",
              "      <td>0</td>\n",
              "      <td>0</td>\n",
              "      <td>operational</td>\n",
              "      <td>Paris</td>\n",
              "      <td>STATION</td>\n",
              "      <td>75008</td>\n",
              "      <td>Paris/Messine/12</td>\n",
              "      <td>operational</td>\n",
              "      <td>NaN</td>\n",
              "      <td>1</td>\n",
              "      <td>station</td>\n",
              "      <td>ok</td>\n",
              "      <td>nonexistent</td>\n",
              "      <td>2018</td>\n",
              "      <td>4</td>\n",
              "      <td>1</td>\n",
              "      <td>0</td>\n",
              "      <td>34</td>\n",
              "    </tr>\n",
              "    <tr>\n",
              "      <th>...</th>\n",
              "      <td>...</td>\n",
              "      <td>...</td>\n",
              "      <td>...</td>\n",
              "      <td>...</td>\n",
              "      <td>...</td>\n",
              "      <td>...</td>\n",
              "      <td>...</td>\n",
              "      <td>...</td>\n",
              "      <td>...</td>\n",
              "      <td>...</td>\n",
              "      <td>...</td>\n",
              "      <td>...</td>\n",
              "      <td>...</td>\n",
              "      <td>...</td>\n",
              "      <td>...</td>\n",
              "      <td>...</td>\n",
              "      <td>...</td>\n",
              "      <td>...</td>\n",
              "      <td>...</td>\n",
              "      <td>...</td>\n",
              "    </tr>\n",
              "    <tr>\n",
              "      <th>3899</th>\n",
              "      <td>3</td>\n",
              "      <td>0</td>\n",
              "      <td>0</td>\n",
              "      <td>0</td>\n",
              "      <td>broken</td>\n",
              "      <td>Paris</td>\n",
              "      <td>STATION</td>\n",
              "      <td>75017</td>\n",
              "      <td>Paris/Batignolles/92</td>\n",
              "      <td>operational</td>\n",
              "      <td>NaN</td>\n",
              "      <td>0</td>\n",
              "      <td>station</td>\n",
              "      <td>ok</td>\n",
              "      <td>nonexistent</td>\n",
              "      <td>2018</td>\n",
              "      <td>4</td>\n",
              "      <td>9</td>\n",
              "      <td>23</td>\n",
              "      <td>24</td>\n",
              "    </tr>\n",
              "    <tr>\n",
              "      <th>4443</th>\n",
              "      <td>0</td>\n",
              "      <td>0</td>\n",
              "      <td>0</td>\n",
              "      <td>0</td>\n",
              "      <td>nonexistent</td>\n",
              "      <td>Paris</td>\n",
              "      <td>STATION</td>\n",
              "      <td>75009</td>\n",
              "      <td>Paris/Montmartre/31</td>\n",
              "      <td>operational</td>\n",
              "      <td>NaN</td>\n",
              "      <td>3</td>\n",
              "      <td>station</td>\n",
              "      <td>ok</td>\n",
              "      <td>nonexistent</td>\n",
              "      <td>2018</td>\n",
              "      <td>4</td>\n",
              "      <td>9</td>\n",
              "      <td>23</td>\n",
              "      <td>58</td>\n",
              "    </tr>\n",
              "    <tr>\n",
              "      <th>4582</th>\n",
              "      <td>5</td>\n",
              "      <td>0</td>\n",
              "      <td>0</td>\n",
              "      <td>0</td>\n",
              "      <td>operational</td>\n",
              "      <td>Paris</td>\n",
              "      <td>STATION</td>\n",
              "      <td>75019</td>\n",
              "      <td>Paris/CrimÃ©e/82</td>\n",
              "      <td>operational</td>\n",
              "      <td>NaN</td>\n",
              "      <td>1</td>\n",
              "      <td>station</td>\n",
              "      <td>ok</td>\n",
              "      <td>nonexistent</td>\n",
              "      <td>2018</td>\n",
              "      <td>4</td>\n",
              "      <td>9</td>\n",
              "      <td>23</td>\n",
              "      <td>56</td>\n",
              "    </tr>\n",
              "    <tr>\n",
              "      <th>4956</th>\n",
              "      <td>0</td>\n",
              "      <td>0</td>\n",
              "      <td>0</td>\n",
              "      <td>1</td>\n",
              "      <td>operational</td>\n",
              "      <td>Paris</td>\n",
              "      <td>STATION</td>\n",
              "      <td>75006</td>\n",
              "      <td>Paris/Vaugirard/3</td>\n",
              "      <td>operational</td>\n",
              "      <td>NaN</td>\n",
              "      <td>5</td>\n",
              "      <td>station</td>\n",
              "      <td>ok</td>\n",
              "      <td>nonexistent</td>\n",
              "      <td>2018</td>\n",
              "      <td>4</td>\n",
              "      <td>9</td>\n",
              "      <td>23</td>\n",
              "      <td>32</td>\n",
              "    </tr>\n",
              "    <tr>\n",
              "      <th>4992</th>\n",
              "      <td>0</td>\n",
              "      <td>0</td>\n",
              "      <td>0</td>\n",
              "      <td>2</td>\n",
              "      <td>operational</td>\n",
              "      <td>Paris</td>\n",
              "      <td>STATION</td>\n",
              "      <td>75013</td>\n",
              "      <td>Paris/Ivry/3</td>\n",
              "      <td>operational</td>\n",
              "      <td>NaN</td>\n",
              "      <td>6</td>\n",
              "      <td>station</td>\n",
              "      <td>ok</td>\n",
              "      <td>nonexistent</td>\n",
              "      <td>2018</td>\n",
              "      <td>4</td>\n",
              "      <td>9</td>\n",
              "      <td>23</td>\n",
              "      <td>1</td>\n",
              "    </tr>\n",
              "  </tbody>\n",
              "</table>\n",
              "<p>5000 rows × 20 columns</p>\n",
              "</div>"
            ],
            "text/plain": [
              "      Bluecar counter  Utilib counter  Utilib 1.4 counter  ...  day hour minute\n",
              "123                 0               0                   0  ...    1    0     32\n",
              "459                 3               0                   0  ...    1    0     37\n",
              "584                 7               0                   0  ...    1    0      5\n",
              "978                 2               0                   0  ...    1    0     33\n",
              "1026                4               0                   0  ...    1    0     34\n",
              "...               ...             ...                 ...  ...  ...  ...    ...\n",
              "3899                3               0                   0  ...    9   23     24\n",
              "4443                0               0                   0  ...    9   23     58\n",
              "4582                5               0                   0  ...    9   23     56\n",
              "4956                0               0                   0  ...    9   23     32\n",
              "4992                0               0                   0  ...    9   23      1\n",
              "\n",
              "[5000 rows x 20 columns]"
            ]
          },
          "metadata": {},
          "execution_count": 14
        }
      ]
    },
    {
      "cell_type": "markdown",
      "metadata": {
        "id": "Wg9uZ1Xv8_7s"
      },
      "source": [
        "From the Google Docs:\n",
        "\n",
        "Total number of Blue Cars=7\n",
        "\n",
        "Total number of Utilib=4\n",
        "\n",
        "Total number of Utilib 1.4=5\n",
        "\n",
        "Total number of charging slots=3\n",
        "\n",
        "Total number of parking slots=7"
      ]
    },
    {
      "cell_type": "code",
      "metadata": {
        "colab": {
          "base_uri": "https://localhost:8080/",
          "height": 307
        },
        "id": "db_ZEpv7uQ5d",
        "outputId": "6f6d95f2-dc90-4a6a-d384-1c960bcdf2ad"
      },
      "source": [
        "#creating a new column which will contain the cumulative difference \n",
        "#for the Blue Car Counter\n",
        "df1['Bluecar_Diff'] =df1['Bluecar counter'].diff()\n",
        "df1.head(5)"
      ],
      "execution_count": 15,
      "outputs": [
        {
          "output_type": "execute_result",
          "data": {
            "text/html": [
              "<div>\n",
              "<style scoped>\n",
              "    .dataframe tbody tr th:only-of-type {\n",
              "        vertical-align: middle;\n",
              "    }\n",
              "\n",
              "    .dataframe tbody tr th {\n",
              "        vertical-align: top;\n",
              "    }\n",
              "\n",
              "    .dataframe thead th {\n",
              "        text-align: right;\n",
              "    }\n",
              "</style>\n",
              "<table border=\"1\" class=\"dataframe\">\n",
              "  <thead>\n",
              "    <tr style=\"text-align: right;\">\n",
              "      <th></th>\n",
              "      <th>Bluecar counter</th>\n",
              "      <th>Utilib counter</th>\n",
              "      <th>Utilib 1.4 counter</th>\n",
              "      <th>Charge Slots</th>\n",
              "      <th>Charging Status</th>\n",
              "      <th>City</th>\n",
              "      <th>Kind</th>\n",
              "      <th>Postal code</th>\n",
              "      <th>Public name</th>\n",
              "      <th>Rental status</th>\n",
              "      <th>Scheduled at</th>\n",
              "      <th>Slots</th>\n",
              "      <th>Station type</th>\n",
              "      <th>Status</th>\n",
              "      <th>Subscription status</th>\n",
              "      <th>year</th>\n",
              "      <th>month</th>\n",
              "      <th>day</th>\n",
              "      <th>hour</th>\n",
              "      <th>minute</th>\n",
              "      <th>Bluecar_Diff</th>\n",
              "    </tr>\n",
              "  </thead>\n",
              "  <tbody>\n",
              "    <tr>\n",
              "      <th>123</th>\n",
              "      <td>0</td>\n",
              "      <td>0</td>\n",
              "      <td>0</td>\n",
              "      <td>0</td>\n",
              "      <td>nonexistent</td>\n",
              "      <td>Paris</td>\n",
              "      <td>STATION</td>\n",
              "      <td>75019</td>\n",
              "      <td>Paris/Mathis/35</td>\n",
              "      <td>operational</td>\n",
              "      <td>NaN</td>\n",
              "      <td>4</td>\n",
              "      <td>station</td>\n",
              "      <td>ok</td>\n",
              "      <td>nonexistent</td>\n",
              "      <td>2018</td>\n",
              "      <td>4</td>\n",
              "      <td>1</td>\n",
              "      <td>0</td>\n",
              "      <td>32</td>\n",
              "      <td>NaN</td>\n",
              "    </tr>\n",
              "    <tr>\n",
              "      <th>459</th>\n",
              "      <td>3</td>\n",
              "      <td>0</td>\n",
              "      <td>0</td>\n",
              "      <td>0</td>\n",
              "      <td>operational</td>\n",
              "      <td>Paris</td>\n",
              "      <td>STATION</td>\n",
              "      <td>75017</td>\n",
              "      <td>Paris/Pereire/170</td>\n",
              "      <td>operational</td>\n",
              "      <td>NaN</td>\n",
              "      <td>1</td>\n",
              "      <td>station</td>\n",
              "      <td>ok</td>\n",
              "      <td>nonexistent</td>\n",
              "      <td>2018</td>\n",
              "      <td>4</td>\n",
              "      <td>1</td>\n",
              "      <td>0</td>\n",
              "      <td>37</td>\n",
              "      <td>3.0</td>\n",
              "    </tr>\n",
              "    <tr>\n",
              "      <th>584</th>\n",
              "      <td>7</td>\n",
              "      <td>0</td>\n",
              "      <td>0</td>\n",
              "      <td>0</td>\n",
              "      <td>nonexistent</td>\n",
              "      <td>Ãpinay-sur-Seine</td>\n",
              "      <td>STATION</td>\n",
              "      <td>93800</td>\n",
              "      <td>Ãpinay-sur-Seine/Avenir/1</td>\n",
              "      <td>operational</td>\n",
              "      <td>NaN</td>\n",
              "      <td>0</td>\n",
              "      <td>station</td>\n",
              "      <td>ok</td>\n",
              "      <td>nonexistent</td>\n",
              "      <td>2018</td>\n",
              "      <td>4</td>\n",
              "      <td>1</td>\n",
              "      <td>0</td>\n",
              "      <td>5</td>\n",
              "      <td>4.0</td>\n",
              "    </tr>\n",
              "    <tr>\n",
              "      <th>978</th>\n",
              "      <td>2</td>\n",
              "      <td>0</td>\n",
              "      <td>0</td>\n",
              "      <td>1</td>\n",
              "      <td>operational</td>\n",
              "      <td>Paris</td>\n",
              "      <td>STATION</td>\n",
              "      <td>75012</td>\n",
              "      <td>Paris/Fabre d'Ãglantine/2</td>\n",
              "      <td>operational</td>\n",
              "      <td>NaN</td>\n",
              "      <td>2</td>\n",
              "      <td>station</td>\n",
              "      <td>ok</td>\n",
              "      <td>nonexistent</td>\n",
              "      <td>2018</td>\n",
              "      <td>4</td>\n",
              "      <td>1</td>\n",
              "      <td>0</td>\n",
              "      <td>33</td>\n",
              "      <td>-5.0</td>\n",
              "    </tr>\n",
              "    <tr>\n",
              "      <th>1026</th>\n",
              "      <td>4</td>\n",
              "      <td>0</td>\n",
              "      <td>0</td>\n",
              "      <td>0</td>\n",
              "      <td>operational</td>\n",
              "      <td>Paris</td>\n",
              "      <td>STATION</td>\n",
              "      <td>75008</td>\n",
              "      <td>Paris/Messine/12</td>\n",
              "      <td>operational</td>\n",
              "      <td>NaN</td>\n",
              "      <td>1</td>\n",
              "      <td>station</td>\n",
              "      <td>ok</td>\n",
              "      <td>nonexistent</td>\n",
              "      <td>2018</td>\n",
              "      <td>4</td>\n",
              "      <td>1</td>\n",
              "      <td>0</td>\n",
              "      <td>34</td>\n",
              "      <td>2.0</td>\n",
              "    </tr>\n",
              "  </tbody>\n",
              "</table>\n",
              "</div>"
            ],
            "text/plain": [
              "      Bluecar counter  Utilib counter  ...  minute  Bluecar_Diff\n",
              "123                 0               0  ...      32           NaN\n",
              "459                 3               0  ...      37           3.0\n",
              "584                 7               0  ...       5           4.0\n",
              "978                 2               0  ...      33          -5.0\n",
              "1026                4               0  ...      34           2.0\n",
              "\n",
              "[5 rows x 21 columns]"
            ]
          },
          "metadata": {},
          "execution_count": 15
        }
      ]
    },
    {
      "cell_type": "code",
      "metadata": {
        "colab": {
          "base_uri": "https://localhost:8080/",
          "height": 257
        },
        "id": "pDlK_Gj29zU7",
        "outputId": "823aed5f-79d5-483e-d47c-0e5a47a8d74f"
      },
      "source": [
        "df1.tail()"
      ],
      "execution_count": 16,
      "outputs": [
        {
          "output_type": "execute_result",
          "data": {
            "text/html": [
              "<div>\n",
              "<style scoped>\n",
              "    .dataframe tbody tr th:only-of-type {\n",
              "        vertical-align: middle;\n",
              "    }\n",
              "\n",
              "    .dataframe tbody tr th {\n",
              "        vertical-align: top;\n",
              "    }\n",
              "\n",
              "    .dataframe thead th {\n",
              "        text-align: right;\n",
              "    }\n",
              "</style>\n",
              "<table border=\"1\" class=\"dataframe\">\n",
              "  <thead>\n",
              "    <tr style=\"text-align: right;\">\n",
              "      <th></th>\n",
              "      <th>Bluecar counter</th>\n",
              "      <th>Utilib counter</th>\n",
              "      <th>Utilib 1.4 counter</th>\n",
              "      <th>Charge Slots</th>\n",
              "      <th>Charging Status</th>\n",
              "      <th>City</th>\n",
              "      <th>Kind</th>\n",
              "      <th>Postal code</th>\n",
              "      <th>Public name</th>\n",
              "      <th>Rental status</th>\n",
              "      <th>Scheduled at</th>\n",
              "      <th>Slots</th>\n",
              "      <th>Station type</th>\n",
              "      <th>Status</th>\n",
              "      <th>Subscription status</th>\n",
              "      <th>year</th>\n",
              "      <th>month</th>\n",
              "      <th>day</th>\n",
              "      <th>hour</th>\n",
              "      <th>minute</th>\n",
              "      <th>Bluecar_Diff</th>\n",
              "    </tr>\n",
              "  </thead>\n",
              "  <tbody>\n",
              "    <tr>\n",
              "      <th>3899</th>\n",
              "      <td>3</td>\n",
              "      <td>0</td>\n",
              "      <td>0</td>\n",
              "      <td>0</td>\n",
              "      <td>broken</td>\n",
              "      <td>Paris</td>\n",
              "      <td>STATION</td>\n",
              "      <td>75017</td>\n",
              "      <td>Paris/Batignolles/92</td>\n",
              "      <td>operational</td>\n",
              "      <td>NaN</td>\n",
              "      <td>0</td>\n",
              "      <td>station</td>\n",
              "      <td>ok</td>\n",
              "      <td>nonexistent</td>\n",
              "      <td>2018</td>\n",
              "      <td>4</td>\n",
              "      <td>9</td>\n",
              "      <td>23</td>\n",
              "      <td>24</td>\n",
              "      <td>2.0</td>\n",
              "    </tr>\n",
              "    <tr>\n",
              "      <th>4443</th>\n",
              "      <td>0</td>\n",
              "      <td>0</td>\n",
              "      <td>0</td>\n",
              "      <td>0</td>\n",
              "      <td>nonexistent</td>\n",
              "      <td>Paris</td>\n",
              "      <td>STATION</td>\n",
              "      <td>75009</td>\n",
              "      <td>Paris/Montmartre/31</td>\n",
              "      <td>operational</td>\n",
              "      <td>NaN</td>\n",
              "      <td>3</td>\n",
              "      <td>station</td>\n",
              "      <td>ok</td>\n",
              "      <td>nonexistent</td>\n",
              "      <td>2018</td>\n",
              "      <td>4</td>\n",
              "      <td>9</td>\n",
              "      <td>23</td>\n",
              "      <td>58</td>\n",
              "      <td>-3.0</td>\n",
              "    </tr>\n",
              "    <tr>\n",
              "      <th>4582</th>\n",
              "      <td>5</td>\n",
              "      <td>0</td>\n",
              "      <td>0</td>\n",
              "      <td>0</td>\n",
              "      <td>operational</td>\n",
              "      <td>Paris</td>\n",
              "      <td>STATION</td>\n",
              "      <td>75019</td>\n",
              "      <td>Paris/CrimÃ©e/82</td>\n",
              "      <td>operational</td>\n",
              "      <td>NaN</td>\n",
              "      <td>1</td>\n",
              "      <td>station</td>\n",
              "      <td>ok</td>\n",
              "      <td>nonexistent</td>\n",
              "      <td>2018</td>\n",
              "      <td>4</td>\n",
              "      <td>9</td>\n",
              "      <td>23</td>\n",
              "      <td>56</td>\n",
              "      <td>5.0</td>\n",
              "    </tr>\n",
              "    <tr>\n",
              "      <th>4956</th>\n",
              "      <td>0</td>\n",
              "      <td>0</td>\n",
              "      <td>0</td>\n",
              "      <td>1</td>\n",
              "      <td>operational</td>\n",
              "      <td>Paris</td>\n",
              "      <td>STATION</td>\n",
              "      <td>75006</td>\n",
              "      <td>Paris/Vaugirard/3</td>\n",
              "      <td>operational</td>\n",
              "      <td>NaN</td>\n",
              "      <td>5</td>\n",
              "      <td>station</td>\n",
              "      <td>ok</td>\n",
              "      <td>nonexistent</td>\n",
              "      <td>2018</td>\n",
              "      <td>4</td>\n",
              "      <td>9</td>\n",
              "      <td>23</td>\n",
              "      <td>32</td>\n",
              "      <td>-5.0</td>\n",
              "    </tr>\n",
              "    <tr>\n",
              "      <th>4992</th>\n",
              "      <td>0</td>\n",
              "      <td>0</td>\n",
              "      <td>0</td>\n",
              "      <td>2</td>\n",
              "      <td>operational</td>\n",
              "      <td>Paris</td>\n",
              "      <td>STATION</td>\n",
              "      <td>75013</td>\n",
              "      <td>Paris/Ivry/3</td>\n",
              "      <td>operational</td>\n",
              "      <td>NaN</td>\n",
              "      <td>6</td>\n",
              "      <td>station</td>\n",
              "      <td>ok</td>\n",
              "      <td>nonexistent</td>\n",
              "      <td>2018</td>\n",
              "      <td>4</td>\n",
              "      <td>9</td>\n",
              "      <td>23</td>\n",
              "      <td>1</td>\n",
              "      <td>0.0</td>\n",
              "    </tr>\n",
              "  </tbody>\n",
              "</table>\n",
              "</div>"
            ],
            "text/plain": [
              "      Bluecar counter  Utilib counter  ...  minute  Bluecar_Diff\n",
              "3899                3               0  ...      24           2.0\n",
              "4443                0               0  ...      58          -3.0\n",
              "4582                5               0  ...      56           5.0\n",
              "4956                0               0  ...      32          -5.0\n",
              "4992                0               0  ...       1           0.0\n",
              "\n",
              "[5 rows x 21 columns]"
            ]
          },
          "metadata": {},
          "execution_count": 16
        }
      ]
    },
    {
      "cell_type": "markdown",
      "metadata": {
        "id": "bOekpLSfLb2W"
      },
      "source": [
        "Negative values in difference column stand for picking.\n",
        "\n",
        "Postive values in difference colum stand for returning."
      ]
    },
    {
      "cell_type": "markdown",
      "metadata": {
        "id": "eF0iXp7VI9JX"
      },
      "source": [
        "# **Answering Questions**"
      ]
    },
    {
      "cell_type": "markdown",
      "metadata": {
        "id": "2g5JQhWdqiu0"
      },
      "source": [
        "**Blue Car**"
      ]
    },
    {
      "cell_type": "code",
      "metadata": {
        "colab": {
          "base_uri": "https://localhost:8080/"
        },
        "id": "-PBUm5r8JUPu",
        "outputId": "8a4c0cb3-1661-4b4b-c6df-4213b7147788"
      },
      "source": [
        "#Question 1\n",
        "#Identify the most popular hour of the day for picking up a shared electric car \n",
        "#(Bluecar) in the city of Paris over the month of April 2018.\n",
        "df1[df1['City'] =='Paris'][df1['Bluecar_Diff'] < 0].groupby('hour')['hour'].count().sort_values(ascending= False).head(3)\n"
      ],
      "execution_count": 17,
      "outputs": [
        {
          "output_type": "stream",
          "name": "stderr",
          "text": [
            "/usr/local/lib/python3.7/dist-packages/ipykernel_launcher.py:4: UserWarning: Boolean Series key will be reindexed to match DataFrame index.\n",
            "  after removing the cwd from sys.path.\n"
          ]
        },
        {
          "output_type": "execute_result",
          "data": {
            "text/plain": [
              "hour\n",
              "21    69\n",
              "6     66\n",
              "5     65\n",
              "Name: hour, dtype: int64"
            ]
          },
          "metadata": {},
          "execution_count": 17
        }
      ]
    },
    {
      "cell_type": "markdown",
      "metadata": {
        "id": "kaP1Ott9NRJ-"
      },
      "source": [
        "21 is the most popular hour for picking up a shared electric car (Bluecar) in the city of Paris over the month of April 2018.\n",
        "\n",
        "\n"
      ]
    },
    {
      "cell_type": "code",
      "metadata": {
        "colab": {
          "base_uri": "https://localhost:8080/"
        },
        "id": "6B73rAg8MfTL",
        "outputId": "aba1413c-2038-42a5-a41b-ff86c2a2b1a0"
      },
      "source": [
        "#Question 2\n",
        "#What is the most popular hour for returning cars?\n",
        "df1[df1['City'] =='Paris'][df1['Bluecar_Diff'] > 0].groupby('hour')['hour'].count().sort_values(ascending= False).head(3)"
      ],
      "execution_count": 18,
      "outputs": [
        {
          "output_type": "stream",
          "name": "stderr",
          "text": [
            "/usr/local/lib/python3.7/dist-packages/ipykernel_launcher.py:3: UserWarning: Boolean Series key will be reindexed to match DataFrame index.\n",
            "  This is separate from the ipykernel package so we can avoid doing imports until\n"
          ]
        },
        {
          "output_type": "execute_result",
          "data": {
            "text/plain": [
              "hour\n",
              "21    51\n",
              "8     49\n",
              "12    49\n",
              "Name: hour, dtype: int64"
            ]
          },
          "metadata": {},
          "execution_count": 18
        }
      ]
    },
    {
      "cell_type": "markdown",
      "metadata": {
        "id": "lVES2c3Px0XH"
      },
      "source": [
        "21 is the most popular hour for picking up a shared electric car (Bluecar) in the city of Paris over the month of April 2018."
      ]
    },
    {
      "cell_type": "code",
      "metadata": {
        "colab": {
          "base_uri": "https://localhost:8080/",
          "height": 307
        },
        "id": "0Ge2sdxdSHI-",
        "outputId": "88097398-327d-4f40-8907-913dc9f806e6"
      },
      "source": [
        "df1.head()"
      ],
      "execution_count": 19,
      "outputs": [
        {
          "output_type": "execute_result",
          "data": {
            "text/html": [
              "<div>\n",
              "<style scoped>\n",
              "    .dataframe tbody tr th:only-of-type {\n",
              "        vertical-align: middle;\n",
              "    }\n",
              "\n",
              "    .dataframe tbody tr th {\n",
              "        vertical-align: top;\n",
              "    }\n",
              "\n",
              "    .dataframe thead th {\n",
              "        text-align: right;\n",
              "    }\n",
              "</style>\n",
              "<table border=\"1\" class=\"dataframe\">\n",
              "  <thead>\n",
              "    <tr style=\"text-align: right;\">\n",
              "      <th></th>\n",
              "      <th>Bluecar counter</th>\n",
              "      <th>Utilib counter</th>\n",
              "      <th>Utilib 1.4 counter</th>\n",
              "      <th>Charge Slots</th>\n",
              "      <th>Charging Status</th>\n",
              "      <th>City</th>\n",
              "      <th>Kind</th>\n",
              "      <th>Postal code</th>\n",
              "      <th>Public name</th>\n",
              "      <th>Rental status</th>\n",
              "      <th>Scheduled at</th>\n",
              "      <th>Slots</th>\n",
              "      <th>Station type</th>\n",
              "      <th>Status</th>\n",
              "      <th>Subscription status</th>\n",
              "      <th>year</th>\n",
              "      <th>month</th>\n",
              "      <th>day</th>\n",
              "      <th>hour</th>\n",
              "      <th>minute</th>\n",
              "      <th>Bluecar_Diff</th>\n",
              "    </tr>\n",
              "  </thead>\n",
              "  <tbody>\n",
              "    <tr>\n",
              "      <th>123</th>\n",
              "      <td>0</td>\n",
              "      <td>0</td>\n",
              "      <td>0</td>\n",
              "      <td>0</td>\n",
              "      <td>nonexistent</td>\n",
              "      <td>Paris</td>\n",
              "      <td>STATION</td>\n",
              "      <td>75019</td>\n",
              "      <td>Paris/Mathis/35</td>\n",
              "      <td>operational</td>\n",
              "      <td>NaN</td>\n",
              "      <td>4</td>\n",
              "      <td>station</td>\n",
              "      <td>ok</td>\n",
              "      <td>nonexistent</td>\n",
              "      <td>2018</td>\n",
              "      <td>4</td>\n",
              "      <td>1</td>\n",
              "      <td>0</td>\n",
              "      <td>32</td>\n",
              "      <td>NaN</td>\n",
              "    </tr>\n",
              "    <tr>\n",
              "      <th>459</th>\n",
              "      <td>3</td>\n",
              "      <td>0</td>\n",
              "      <td>0</td>\n",
              "      <td>0</td>\n",
              "      <td>operational</td>\n",
              "      <td>Paris</td>\n",
              "      <td>STATION</td>\n",
              "      <td>75017</td>\n",
              "      <td>Paris/Pereire/170</td>\n",
              "      <td>operational</td>\n",
              "      <td>NaN</td>\n",
              "      <td>1</td>\n",
              "      <td>station</td>\n",
              "      <td>ok</td>\n",
              "      <td>nonexistent</td>\n",
              "      <td>2018</td>\n",
              "      <td>4</td>\n",
              "      <td>1</td>\n",
              "      <td>0</td>\n",
              "      <td>37</td>\n",
              "      <td>3.0</td>\n",
              "    </tr>\n",
              "    <tr>\n",
              "      <th>584</th>\n",
              "      <td>7</td>\n",
              "      <td>0</td>\n",
              "      <td>0</td>\n",
              "      <td>0</td>\n",
              "      <td>nonexistent</td>\n",
              "      <td>Ãpinay-sur-Seine</td>\n",
              "      <td>STATION</td>\n",
              "      <td>93800</td>\n",
              "      <td>Ãpinay-sur-Seine/Avenir/1</td>\n",
              "      <td>operational</td>\n",
              "      <td>NaN</td>\n",
              "      <td>0</td>\n",
              "      <td>station</td>\n",
              "      <td>ok</td>\n",
              "      <td>nonexistent</td>\n",
              "      <td>2018</td>\n",
              "      <td>4</td>\n",
              "      <td>1</td>\n",
              "      <td>0</td>\n",
              "      <td>5</td>\n",
              "      <td>4.0</td>\n",
              "    </tr>\n",
              "    <tr>\n",
              "      <th>978</th>\n",
              "      <td>2</td>\n",
              "      <td>0</td>\n",
              "      <td>0</td>\n",
              "      <td>1</td>\n",
              "      <td>operational</td>\n",
              "      <td>Paris</td>\n",
              "      <td>STATION</td>\n",
              "      <td>75012</td>\n",
              "      <td>Paris/Fabre d'Ãglantine/2</td>\n",
              "      <td>operational</td>\n",
              "      <td>NaN</td>\n",
              "      <td>2</td>\n",
              "      <td>station</td>\n",
              "      <td>ok</td>\n",
              "      <td>nonexistent</td>\n",
              "      <td>2018</td>\n",
              "      <td>4</td>\n",
              "      <td>1</td>\n",
              "      <td>0</td>\n",
              "      <td>33</td>\n",
              "      <td>-5.0</td>\n",
              "    </tr>\n",
              "    <tr>\n",
              "      <th>1026</th>\n",
              "      <td>4</td>\n",
              "      <td>0</td>\n",
              "      <td>0</td>\n",
              "      <td>0</td>\n",
              "      <td>operational</td>\n",
              "      <td>Paris</td>\n",
              "      <td>STATION</td>\n",
              "      <td>75008</td>\n",
              "      <td>Paris/Messine/12</td>\n",
              "      <td>operational</td>\n",
              "      <td>NaN</td>\n",
              "      <td>1</td>\n",
              "      <td>station</td>\n",
              "      <td>ok</td>\n",
              "      <td>nonexistent</td>\n",
              "      <td>2018</td>\n",
              "      <td>4</td>\n",
              "      <td>1</td>\n",
              "      <td>0</td>\n",
              "      <td>34</td>\n",
              "      <td>2.0</td>\n",
              "    </tr>\n",
              "  </tbody>\n",
              "</table>\n",
              "</div>"
            ],
            "text/plain": [
              "      Bluecar counter  Utilib counter  ...  minute  Bluecar_Diff\n",
              "123                 0               0  ...      32           NaN\n",
              "459                 3               0  ...      37           3.0\n",
              "584                 7               0  ...       5           4.0\n",
              "978                 2               0  ...      33          -5.0\n",
              "1026                4               0  ...      34           2.0\n",
              "\n",
              "[5 rows x 21 columns]"
            ]
          },
          "metadata": {},
          "execution_count": 19
        }
      ]
    },
    {
      "cell_type": "code",
      "metadata": {
        "colab": {
          "base_uri": "https://localhost:8080/"
        },
        "id": "g8z5-oyuRkZ7",
        "outputId": "158880f7-ed9a-4e06-be23-c054b21591bd"
      },
      "source": [
        "#Question 3\n",
        "#What station is the most popular?\n",
        "df1[df1['City'] =='Paris'][df1['Kind']=='STATION'][df1['Status']=='ok'].groupby('Public name')['Public name'].count().sort_values(ascending=False).head(3)\n"
      ],
      "execution_count": 20,
      "outputs": [
        {
          "output_type": "stream",
          "name": "stderr",
          "text": [
            "/usr/local/lib/python3.7/dist-packages/ipykernel_launcher.py:3: UserWarning: Boolean Series key will be reindexed to match DataFrame index.\n",
            "  This is separate from the ipykernel package so we can avoid doing imports until\n"
          ]
        },
        {
          "output_type": "execute_result",
          "data": {
            "text/plain": [
              "Public name\n",
              "Paris/Porte de Montrouge/8    13\n",
              "Paris/Voltaire/182            11\n",
              "Paris/Courcelles/69           11\n",
              "Name: Public name, dtype: int64"
            ]
          },
          "metadata": {},
          "execution_count": 20
        }
      ]
    },
    {
      "cell_type": "markdown",
      "metadata": {
        "id": "V-oto8YCTsTS"
      },
      "source": [
        "Paris/Porte de Montrouge/8 is the most popular station in Paris."
      ]
    },
    {
      "cell_type": "code",
      "metadata": {
        "colab": {
          "base_uri": "https://localhost:8080/"
        },
        "id": "ePqI2MldTZuE",
        "outputId": "a87eae39-7543-4966-90bf-dd0e8c3ea245"
      },
      "source": [
        "#Question 4\n",
        "#Most popular station overally.\n",
        "df1[df1['Kind']=='STATION'][df1['Status']=='ok'].groupby('Public name')['Public name'].count().sort_values(ascending=False).head(3)"
      ],
      "execution_count": 21,
      "outputs": [
        {
          "output_type": "stream",
          "name": "stderr",
          "text": [
            "/usr/local/lib/python3.7/dist-packages/ipykernel_launcher.py:2: UserWarning: Boolean Series key will be reindexed to match DataFrame index.\n",
            "  \n"
          ]
        },
        {
          "output_type": "execute_result",
          "data": {
            "text/plain": [
              "Public name\n",
              "Paris/Porte de Montrouge/8    13\n",
              "Paris/Courcelles/69           11\n",
              "Paris/Voltaire/182            11\n",
              "Name: Public name, dtype: int64"
            ]
          },
          "metadata": {},
          "execution_count": 21
        }
      ]
    },
    {
      "cell_type": "markdown",
      "metadata": {
        "id": "KXqMJ04tUqE-"
      },
      "source": [
        "Paris/Porte de Montrouge/8 is the most popular station overally."
      ]
    },
    {
      "cell_type": "code",
      "metadata": {
        "colab": {
          "base_uri": "https://localhost:8080/"
        },
        "id": "WPU_WbjjBboU",
        "outputId": "371e397b-cb7f-484e-d858-a24e21048ffd"
      },
      "source": [
        "#Question 5\n",
        "#What postal code is the most popular for picking up Blue cars? \n",
        "df1[df1['City'] =='Paris'][df1['Bluecar_Diff']< 0].groupby('Postal code')['Postal code'].count().sort_values(ascending= False).head(3)"
      ],
      "execution_count": 25,
      "outputs": [
        {
          "output_type": "stream",
          "name": "stderr",
          "text": [
            "/usr/local/lib/python3.7/dist-packages/ipykernel_launcher.py:2: UserWarning: Boolean Series key will be reindexed to match DataFrame index.\n",
            "  \n",
            "/usr/local/lib/python3.7/dist-packages/ipykernel_launcher.py:2: UserWarning: Boolean Series key will be reindexed to match DataFrame index.\n",
            "  \n"
          ]
        },
        {
          "output_type": "execute_result",
          "data": {
            "text/plain": [
              "Postal code\n",
              "75015    95\n",
              "75008    92\n",
              "75017    88\n",
              "Name: Postal code, dtype: int64"
            ]
          },
          "metadata": {},
          "execution_count": 25
        }
      ]
    },
    {
      "cell_type": "markdown",
      "metadata": {
        "id": "VpVBhCV0plTt"
      },
      "source": [
        "75015 Postal Code is the most popular for picking up Blue Cars in Paris.  "
      ]
    },
    {
      "cell_type": "markdown",
      "metadata": {
        "id": "HUNUQaE_qs1M"
      },
      "source": [
        "**Utilib**"
      ]
    },
    {
      "cell_type": "code",
      "metadata": {
        "colab": {
          "base_uri": "https://localhost:8080/",
          "height": 307
        },
        "id": "sXeHnLWQq2LC",
        "outputId": "d61a233f-7958-42be-a399-a5f6d3d8fd74"
      },
      "source": [
        "#creating a new column which will contain the cumulative difference \n",
        "#for the Utilib Counter\n",
        "df1['Utilib_Diff'] =df1['Utilib counter'].diff()\n",
        "df1.head(5)"
      ],
      "execution_count": 26,
      "outputs": [
        {
          "output_type": "execute_result",
          "data": {
            "text/html": [
              "<div>\n",
              "<style scoped>\n",
              "    .dataframe tbody tr th:only-of-type {\n",
              "        vertical-align: middle;\n",
              "    }\n",
              "\n",
              "    .dataframe tbody tr th {\n",
              "        vertical-align: top;\n",
              "    }\n",
              "\n",
              "    .dataframe thead th {\n",
              "        text-align: right;\n",
              "    }\n",
              "</style>\n",
              "<table border=\"1\" class=\"dataframe\">\n",
              "  <thead>\n",
              "    <tr style=\"text-align: right;\">\n",
              "      <th></th>\n",
              "      <th>Bluecar counter</th>\n",
              "      <th>Utilib counter</th>\n",
              "      <th>Utilib 1.4 counter</th>\n",
              "      <th>Charge Slots</th>\n",
              "      <th>Charging Status</th>\n",
              "      <th>City</th>\n",
              "      <th>Kind</th>\n",
              "      <th>Postal code</th>\n",
              "      <th>Public name</th>\n",
              "      <th>Rental status</th>\n",
              "      <th>Scheduled at</th>\n",
              "      <th>Slots</th>\n",
              "      <th>Station type</th>\n",
              "      <th>Status</th>\n",
              "      <th>Subscription status</th>\n",
              "      <th>year</th>\n",
              "      <th>month</th>\n",
              "      <th>day</th>\n",
              "      <th>hour</th>\n",
              "      <th>minute</th>\n",
              "      <th>Bluecar_Diff</th>\n",
              "      <th>Utilib_Diff</th>\n",
              "    </tr>\n",
              "  </thead>\n",
              "  <tbody>\n",
              "    <tr>\n",
              "      <th>123</th>\n",
              "      <td>0</td>\n",
              "      <td>0</td>\n",
              "      <td>0</td>\n",
              "      <td>0</td>\n",
              "      <td>nonexistent</td>\n",
              "      <td>Paris</td>\n",
              "      <td>STATION</td>\n",
              "      <td>75019</td>\n",
              "      <td>Paris/Mathis/35</td>\n",
              "      <td>operational</td>\n",
              "      <td>NaN</td>\n",
              "      <td>4</td>\n",
              "      <td>station</td>\n",
              "      <td>ok</td>\n",
              "      <td>nonexistent</td>\n",
              "      <td>2018</td>\n",
              "      <td>4</td>\n",
              "      <td>1</td>\n",
              "      <td>0</td>\n",
              "      <td>32</td>\n",
              "      <td>NaN</td>\n",
              "      <td>NaN</td>\n",
              "    </tr>\n",
              "    <tr>\n",
              "      <th>459</th>\n",
              "      <td>3</td>\n",
              "      <td>0</td>\n",
              "      <td>0</td>\n",
              "      <td>0</td>\n",
              "      <td>operational</td>\n",
              "      <td>Paris</td>\n",
              "      <td>STATION</td>\n",
              "      <td>75017</td>\n",
              "      <td>Paris/Pereire/170</td>\n",
              "      <td>operational</td>\n",
              "      <td>NaN</td>\n",
              "      <td>1</td>\n",
              "      <td>station</td>\n",
              "      <td>ok</td>\n",
              "      <td>nonexistent</td>\n",
              "      <td>2018</td>\n",
              "      <td>4</td>\n",
              "      <td>1</td>\n",
              "      <td>0</td>\n",
              "      <td>37</td>\n",
              "      <td>3.0</td>\n",
              "      <td>0.0</td>\n",
              "    </tr>\n",
              "    <tr>\n",
              "      <th>584</th>\n",
              "      <td>7</td>\n",
              "      <td>0</td>\n",
              "      <td>0</td>\n",
              "      <td>0</td>\n",
              "      <td>nonexistent</td>\n",
              "      <td>Ãpinay-sur-Seine</td>\n",
              "      <td>STATION</td>\n",
              "      <td>93800</td>\n",
              "      <td>Ãpinay-sur-Seine/Avenir/1</td>\n",
              "      <td>operational</td>\n",
              "      <td>NaN</td>\n",
              "      <td>0</td>\n",
              "      <td>station</td>\n",
              "      <td>ok</td>\n",
              "      <td>nonexistent</td>\n",
              "      <td>2018</td>\n",
              "      <td>4</td>\n",
              "      <td>1</td>\n",
              "      <td>0</td>\n",
              "      <td>5</td>\n",
              "      <td>4.0</td>\n",
              "      <td>0.0</td>\n",
              "    </tr>\n",
              "    <tr>\n",
              "      <th>978</th>\n",
              "      <td>2</td>\n",
              "      <td>0</td>\n",
              "      <td>0</td>\n",
              "      <td>1</td>\n",
              "      <td>operational</td>\n",
              "      <td>Paris</td>\n",
              "      <td>STATION</td>\n",
              "      <td>75012</td>\n",
              "      <td>Paris/Fabre d'Ãglantine/2</td>\n",
              "      <td>operational</td>\n",
              "      <td>NaN</td>\n",
              "      <td>2</td>\n",
              "      <td>station</td>\n",
              "      <td>ok</td>\n",
              "      <td>nonexistent</td>\n",
              "      <td>2018</td>\n",
              "      <td>4</td>\n",
              "      <td>1</td>\n",
              "      <td>0</td>\n",
              "      <td>33</td>\n",
              "      <td>-5.0</td>\n",
              "      <td>0.0</td>\n",
              "    </tr>\n",
              "    <tr>\n",
              "      <th>1026</th>\n",
              "      <td>4</td>\n",
              "      <td>0</td>\n",
              "      <td>0</td>\n",
              "      <td>0</td>\n",
              "      <td>operational</td>\n",
              "      <td>Paris</td>\n",
              "      <td>STATION</td>\n",
              "      <td>75008</td>\n",
              "      <td>Paris/Messine/12</td>\n",
              "      <td>operational</td>\n",
              "      <td>NaN</td>\n",
              "      <td>1</td>\n",
              "      <td>station</td>\n",
              "      <td>ok</td>\n",
              "      <td>nonexistent</td>\n",
              "      <td>2018</td>\n",
              "      <td>4</td>\n",
              "      <td>1</td>\n",
              "      <td>0</td>\n",
              "      <td>34</td>\n",
              "      <td>2.0</td>\n",
              "      <td>0.0</td>\n",
              "    </tr>\n",
              "  </tbody>\n",
              "</table>\n",
              "</div>"
            ],
            "text/plain": [
              "      Bluecar counter  Utilib counter  ...  Bluecar_Diff  Utilib_Diff\n",
              "123                 0               0  ...           NaN          NaN\n",
              "459                 3               0  ...           3.0          0.0\n",
              "584                 7               0  ...           4.0          0.0\n",
              "978                 2               0  ...          -5.0          0.0\n",
              "1026                4               0  ...           2.0          0.0\n",
              "\n",
              "[5 rows x 22 columns]"
            ]
          },
          "metadata": {},
          "execution_count": 26
        }
      ]
    },
    {
      "cell_type": "code",
      "metadata": {
        "colab": {
          "base_uri": "https://localhost:8080/"
        },
        "id": "FCoVcbh-rJQo",
        "outputId": "48c7fb18-a3b3-4578-c3bb-b7181c308a75"
      },
      "source": [
        "#Question 6\n",
        "#Identify the most popular hour of the day for picking up Utilib \n",
        "#in the city of Paris over the month of April 2018.\n",
        "df1[df1['City'] =='Paris'][df1['Utilib_Diff'] < 0].groupby('hour')['hour'].count().sort_values(ascending= False).head(3)\n"
      ],
      "execution_count": 27,
      "outputs": [
        {
          "output_type": "stream",
          "name": "stderr",
          "text": [
            "/usr/local/lib/python3.7/dist-packages/ipykernel_launcher.py:4: UserWarning: Boolean Series key will be reindexed to match DataFrame index.\n",
            "  after removing the cwd from sys.path.\n"
          ]
        },
        {
          "output_type": "execute_result",
          "data": {
            "text/plain": [
              "hour\n",
              "11    9\n",
              "13    9\n",
              "21    8\n",
              "Name: hour, dtype: int64"
            ]
          },
          "metadata": {},
          "execution_count": 27
        }
      ]
    },
    {
      "cell_type": "markdown",
      "metadata": {
        "id": "EwCVIPwsr3R0"
      },
      "source": [
        "11 is the most popular hour for picking up a Utilib in the city of Paris over the month of April 2018."
      ]
    },
    {
      "cell_type": "code",
      "metadata": {
        "colab": {
          "base_uri": "https://localhost:8080/"
        },
        "id": "D1l6gUZgreFm",
        "outputId": "e25105ac-945c-4048-8151-71190d05eefc"
      },
      "source": [
        "#Question 7\n",
        "#What is the most popular hour for returning cars?\n",
        "df1[df1['City'] =='Paris'][df1['Utilib_Diff']< 0].groupby('hour')['hour'].count().sort_values(ascending= False).head(3)"
      ],
      "execution_count": 29,
      "outputs": [
        {
          "output_type": "stream",
          "name": "stderr",
          "text": [
            "/usr/local/lib/python3.7/dist-packages/ipykernel_launcher.py:3: UserWarning: Boolean Series key will be reindexed to match DataFrame index.\n",
            "  This is separate from the ipykernel package so we can avoid doing imports until\n"
          ]
        },
        {
          "output_type": "execute_result",
          "data": {
            "text/plain": [
              "hour\n",
              "11    9\n",
              "13    9\n",
              "21    8\n",
              "Name: hour, dtype: int64"
            ]
          },
          "metadata": {},
          "execution_count": 29
        }
      ]
    },
    {
      "cell_type": "markdown",
      "metadata": {
        "id": "_PbdXDxEsm1k"
      },
      "source": [
        "11 is the most popular hour for returning up a Utilib in the city of Paris over the month of April 2018."
      ]
    },
    {
      "cell_type": "code",
      "metadata": {
        "colab": {
          "base_uri": "https://localhost:8080/"
        },
        "id": "myO5kzrrsKxG",
        "outputId": "9ae63647-81e1-4e80-da19-e6c5fb234331"
      },
      "source": [
        "#Question 8\n",
        "#What postal code is the most popular for picking up Blue cars? \n",
        "df1[df1['City'] =='Paris'][df1['Utilib_Diff']< 0].groupby('Postal code')['Postal code'].count().sort_values(ascending= False).head(3)"
      ],
      "execution_count": 31,
      "outputs": [
        {
          "output_type": "stream",
          "name": "stderr",
          "text": [
            "/usr/local/lib/python3.7/dist-packages/ipykernel_launcher.py:3: UserWarning: Boolean Series key will be reindexed to match DataFrame index.\n",
            "  This is separate from the ipykernel package so we can avoid doing imports until\n"
          ]
        },
        {
          "output_type": "execute_result",
          "data": {
            "text/plain": [
              "Postal code\n",
              "75015    19\n",
              "75019    13\n",
              "75018    11\n",
              "Name: Postal code, dtype: int64"
            ]
          },
          "metadata": {},
          "execution_count": 31
        }
      ]
    },
    {
      "cell_type": "markdown",
      "metadata": {
        "id": "hB81WHwwteju"
      },
      "source": [
        "75015 Postal Code is the most popular for picking up Utilib Counter in Paris."
      ]
    },
    {
      "cell_type": "markdown",
      "metadata": {
        "id": "wfL7RgP2tqr1"
      },
      "source": [
        "**Utilib 1.4**"
      ]
    },
    {
      "cell_type": "code",
      "metadata": {
        "colab": {
          "base_uri": "https://localhost:8080/",
          "height": 307
        },
        "id": "JpJW4RuQtMqS",
        "outputId": "0caf90bd-b43d-498b-d910-3bd054889969"
      },
      "source": [
        "#creating a new column which will contain the cumulative difference \n",
        "#for the Utilib 1.4 Counter\n",
        "df1['Utilib 1.4_Diff'] =df1['Utilib 1.4 counter'].diff()\n",
        "df1.head(5)"
      ],
      "execution_count": 32,
      "outputs": [
        {
          "output_type": "execute_result",
          "data": {
            "text/html": [
              "<div>\n",
              "<style scoped>\n",
              "    .dataframe tbody tr th:only-of-type {\n",
              "        vertical-align: middle;\n",
              "    }\n",
              "\n",
              "    .dataframe tbody tr th {\n",
              "        vertical-align: top;\n",
              "    }\n",
              "\n",
              "    .dataframe thead th {\n",
              "        text-align: right;\n",
              "    }\n",
              "</style>\n",
              "<table border=\"1\" class=\"dataframe\">\n",
              "  <thead>\n",
              "    <tr style=\"text-align: right;\">\n",
              "      <th></th>\n",
              "      <th>Bluecar counter</th>\n",
              "      <th>Utilib counter</th>\n",
              "      <th>Utilib 1.4 counter</th>\n",
              "      <th>Charge Slots</th>\n",
              "      <th>Charging Status</th>\n",
              "      <th>City</th>\n",
              "      <th>Kind</th>\n",
              "      <th>Postal code</th>\n",
              "      <th>Public name</th>\n",
              "      <th>Rental status</th>\n",
              "      <th>Scheduled at</th>\n",
              "      <th>Slots</th>\n",
              "      <th>Station type</th>\n",
              "      <th>Status</th>\n",
              "      <th>Subscription status</th>\n",
              "      <th>year</th>\n",
              "      <th>month</th>\n",
              "      <th>day</th>\n",
              "      <th>hour</th>\n",
              "      <th>minute</th>\n",
              "      <th>Bluecar_Diff</th>\n",
              "      <th>Utilib_Diff</th>\n",
              "      <th>Utilib 1.4_Diff</th>\n",
              "    </tr>\n",
              "  </thead>\n",
              "  <tbody>\n",
              "    <tr>\n",
              "      <th>123</th>\n",
              "      <td>0</td>\n",
              "      <td>0</td>\n",
              "      <td>0</td>\n",
              "      <td>0</td>\n",
              "      <td>nonexistent</td>\n",
              "      <td>Paris</td>\n",
              "      <td>STATION</td>\n",
              "      <td>75019</td>\n",
              "      <td>Paris/Mathis/35</td>\n",
              "      <td>operational</td>\n",
              "      <td>NaN</td>\n",
              "      <td>4</td>\n",
              "      <td>station</td>\n",
              "      <td>ok</td>\n",
              "      <td>nonexistent</td>\n",
              "      <td>2018</td>\n",
              "      <td>4</td>\n",
              "      <td>1</td>\n",
              "      <td>0</td>\n",
              "      <td>32</td>\n",
              "      <td>NaN</td>\n",
              "      <td>NaN</td>\n",
              "      <td>NaN</td>\n",
              "    </tr>\n",
              "    <tr>\n",
              "      <th>459</th>\n",
              "      <td>3</td>\n",
              "      <td>0</td>\n",
              "      <td>0</td>\n",
              "      <td>0</td>\n",
              "      <td>operational</td>\n",
              "      <td>Paris</td>\n",
              "      <td>STATION</td>\n",
              "      <td>75017</td>\n",
              "      <td>Paris/Pereire/170</td>\n",
              "      <td>operational</td>\n",
              "      <td>NaN</td>\n",
              "      <td>1</td>\n",
              "      <td>station</td>\n",
              "      <td>ok</td>\n",
              "      <td>nonexistent</td>\n",
              "      <td>2018</td>\n",
              "      <td>4</td>\n",
              "      <td>1</td>\n",
              "      <td>0</td>\n",
              "      <td>37</td>\n",
              "      <td>3.0</td>\n",
              "      <td>0.0</td>\n",
              "      <td>0.0</td>\n",
              "    </tr>\n",
              "    <tr>\n",
              "      <th>584</th>\n",
              "      <td>7</td>\n",
              "      <td>0</td>\n",
              "      <td>0</td>\n",
              "      <td>0</td>\n",
              "      <td>nonexistent</td>\n",
              "      <td>Ãpinay-sur-Seine</td>\n",
              "      <td>STATION</td>\n",
              "      <td>93800</td>\n",
              "      <td>Ãpinay-sur-Seine/Avenir/1</td>\n",
              "      <td>operational</td>\n",
              "      <td>NaN</td>\n",
              "      <td>0</td>\n",
              "      <td>station</td>\n",
              "      <td>ok</td>\n",
              "      <td>nonexistent</td>\n",
              "      <td>2018</td>\n",
              "      <td>4</td>\n",
              "      <td>1</td>\n",
              "      <td>0</td>\n",
              "      <td>5</td>\n",
              "      <td>4.0</td>\n",
              "      <td>0.0</td>\n",
              "      <td>0.0</td>\n",
              "    </tr>\n",
              "    <tr>\n",
              "      <th>978</th>\n",
              "      <td>2</td>\n",
              "      <td>0</td>\n",
              "      <td>0</td>\n",
              "      <td>1</td>\n",
              "      <td>operational</td>\n",
              "      <td>Paris</td>\n",
              "      <td>STATION</td>\n",
              "      <td>75012</td>\n",
              "      <td>Paris/Fabre d'Ãglantine/2</td>\n",
              "      <td>operational</td>\n",
              "      <td>NaN</td>\n",
              "      <td>2</td>\n",
              "      <td>station</td>\n",
              "      <td>ok</td>\n",
              "      <td>nonexistent</td>\n",
              "      <td>2018</td>\n",
              "      <td>4</td>\n",
              "      <td>1</td>\n",
              "      <td>0</td>\n",
              "      <td>33</td>\n",
              "      <td>-5.0</td>\n",
              "      <td>0.0</td>\n",
              "      <td>0.0</td>\n",
              "    </tr>\n",
              "    <tr>\n",
              "      <th>1026</th>\n",
              "      <td>4</td>\n",
              "      <td>0</td>\n",
              "      <td>0</td>\n",
              "      <td>0</td>\n",
              "      <td>operational</td>\n",
              "      <td>Paris</td>\n",
              "      <td>STATION</td>\n",
              "      <td>75008</td>\n",
              "      <td>Paris/Messine/12</td>\n",
              "      <td>operational</td>\n",
              "      <td>NaN</td>\n",
              "      <td>1</td>\n",
              "      <td>station</td>\n",
              "      <td>ok</td>\n",
              "      <td>nonexistent</td>\n",
              "      <td>2018</td>\n",
              "      <td>4</td>\n",
              "      <td>1</td>\n",
              "      <td>0</td>\n",
              "      <td>34</td>\n",
              "      <td>2.0</td>\n",
              "      <td>0.0</td>\n",
              "      <td>0.0</td>\n",
              "    </tr>\n",
              "  </tbody>\n",
              "</table>\n",
              "</div>"
            ],
            "text/plain": [
              "      Bluecar counter  Utilib counter  ...  Utilib_Diff  Utilib 1.4_Diff\n",
              "123                 0               0  ...          NaN              NaN\n",
              "459                 3               0  ...          0.0              0.0\n",
              "584                 7               0  ...          0.0              0.0\n",
              "978                 2               0  ...          0.0              0.0\n",
              "1026                4               0  ...          0.0              0.0\n",
              "\n",
              "[5 rows x 23 columns]"
            ]
          },
          "metadata": {},
          "execution_count": 32
        }
      ]
    },
    {
      "cell_type": "code",
      "metadata": {
        "colab": {
          "base_uri": "https://localhost:8080/"
        },
        "id": "GQbBB9JPuBHT",
        "outputId": "24ad188c-9688-4e35-968e-0da32102e841"
      },
      "source": [
        "#Question 9\n",
        "#Identify the most popular hour of the day for picking up Utilib \n",
        "#in the city of Paris over the month of April 2018.\n",
        "df1[df1['City'] =='Paris'][df1['Utilib 1.4_Diff'] < 0].groupby('hour')['hour'].count().sort_values(ascending= False).head(3)\n"
      ],
      "execution_count": 33,
      "outputs": [
        {
          "output_type": "stream",
          "name": "stderr",
          "text": [
            "/usr/local/lib/python3.7/dist-packages/ipykernel_launcher.py:4: UserWarning: Boolean Series key will be reindexed to match DataFrame index.\n",
            "  after removing the cwd from sys.path.\n"
          ]
        },
        {
          "output_type": "execute_result",
          "data": {
            "text/plain": [
              "hour\n",
              "6     17\n",
              "3     17\n",
              "16    14\n",
              "Name: hour, dtype: int64"
            ]
          },
          "metadata": {},
          "execution_count": 33
        }
      ]
    },
    {
      "cell_type": "markdown",
      "metadata": {
        "id": "-ancQ9wkuLJF"
      },
      "source": [
        "6 is the most popular hour for returning up a Utilib 1.4 in the city of Paris over the month of April 2018."
      ]
    },
    {
      "cell_type": "code",
      "metadata": {
        "colab": {
          "base_uri": "https://localhost:8080/"
        },
        "id": "9CT8KWeauTLc",
        "outputId": "3d99455e-c5d4-4a8c-9d90-20d9352e0eef"
      },
      "source": [
        "#Question 10\n",
        "#What is the most popular hour for returning cars?\n",
        "df1[df1['City'] =='Paris'][df1['Utilib 1.4_Diff']> 0].groupby('hour')['hour'].count().sort_values(ascending= False).head(3)"
      ],
      "execution_count": 34,
      "outputs": [
        {
          "output_type": "stream",
          "name": "stderr",
          "text": [
            "/usr/local/lib/python3.7/dist-packages/ipykernel_launcher.py:3: UserWarning: Boolean Series key will be reindexed to match DataFrame index.\n",
            "  This is separate from the ipykernel package so we can avoid doing imports until\n"
          ]
        },
        {
          "output_type": "execute_result",
          "data": {
            "text/plain": [
              "hour\n",
              "21    17\n",
              "10    16\n",
              "9     16\n",
              "Name: hour, dtype: int64"
            ]
          },
          "metadata": {},
          "execution_count": 34
        }
      ]
    },
    {
      "cell_type": "markdown",
      "metadata": {
        "id": "s0ek4TTPuf0x"
      },
      "source": [
        "21 is the most popular hour for picking a Utilib 1.4 in the city of Paris over the month of April 2018."
      ]
    },
    {
      "cell_type": "code",
      "metadata": {
        "colab": {
          "base_uri": "https://localhost:8080/"
        },
        "id": "XoZhWgrnutze",
        "outputId": "969920ba-1fca-4363-aa7b-f6139227c53b"
      },
      "source": [
        "#Question 11\n",
        "#What postal code is the most popular for picking up Blue cars? \n",
        "df1[df1['City'] =='Paris'][df1['Utilib 1.4_Diff']< 0].groupby('Postal code')['Postal code'].count().sort_values(ascending= False).head(3)"
      ],
      "execution_count": 35,
      "outputs": [
        {
          "output_type": "stream",
          "name": "stderr",
          "text": [
            "/usr/local/lib/python3.7/dist-packages/ipykernel_launcher.py:3: UserWarning: Boolean Series key will be reindexed to match DataFrame index.\n",
            "  This is separate from the ipykernel package so we can avoid doing imports until\n"
          ]
        },
        {
          "output_type": "execute_result",
          "data": {
            "text/plain": [
              "Postal code\n",
              "75015    28\n",
              "75017    27\n",
              "75016    21\n",
              "Name: Postal code, dtype: int64"
            ]
          },
          "metadata": {},
          "execution_count": 35
        }
      ]
    },
    {
      "cell_type": "markdown",
      "metadata": {
        "id": "gRWo2urfu2ww"
      },
      "source": [
        "75015 Postal Code is the most popular for picking up Utilib Counter in Paris"
      ]
    },
    {
      "cell_type": "markdown",
      "metadata": {
        "id": "OGf8EGHeu9YR"
      },
      "source": [
        "# **Recommendations**"
      ]
    },
    {
      "cell_type": "markdown",
      "metadata": {
        "id": "cOwJDjj1vCBB"
      },
      "source": [
        "\n",
        "\n",
        "1.  Add more Blue Cars at the hour 21.\n",
        "2.  Add more Utilib Cars at the hour 11.\n",
        "3.  Add more Utilib 1.4 Cars at hour 6.\n",
        "4.  Add more cars at the 75015 Postal Code since it is the most popular.\n",
        "5.  The outcome changes when it comes to the Utilib and the Utilib 1.4.\n",
        "\n"
      ]
    }
  ]
}